{
 "cells": [
  {
   "cell_type": "markdown",
   "metadata": {
    "slideshow": {
     "slide_type": "subslide"
    }
   },
   "source": [
    "## Esercizio: Serie Geometrica\n",
    "\n",
    "**Si definisca una funzione**\n",
    "\n",
    "```python\n",
    "def geometric_sum(a, r, m)\n",
    "```\n",
    "\n",
    "$$\n",
    "s_m = \\sum_{n = 0}^{m-1} a r^n\n",
    "$$\n",
    "\n",
    "* Il codice dell'esercizio analogo nella parte 4 è disponibile come riferimento\n",
    "* Il codice deve essere contenuto in un'unica cella"
   ]
  },
  {
   "cell_type": "markdown",
   "metadata": {
    "slideshow": {
     "slide_type": "subslide"
    }
   },
   "source": [
    "## Esempio: Serie Geometrica\n",
    "\n",
    "**Il codice da usare come riferimento è:**"
   ]
  },
  {
   "cell_type": "code",
   "execution_count": 1,
   "metadata": {},
   "outputs": [
    {
     "name": "stdout",
     "output_type": "stream",
     "text": [
      "s_m = 3.996\n"
     ]
    }
   ],
   "source": [
    "# Dati del problema\n",
    "a, r = 2, 0.5\n",
    "m = 10\n",
    "\n",
    "res = sum(a * r**n for n in range(m)) # valore di partenza per la somma\n",
    "\n",
    "print(f's_m = {res:.3f}')"
   ]
  }
 ],
 "metadata": {
  "celltoolbar": "Slideshow",
  "kernelspec": {
   "display_name": "Python 3 (ipykernel)",
   "language": "python",
   "name": "python3"
  },
  "language_info": {
   "codemirror_mode": {
    "name": "ipython",
    "version": 3
   },
   "file_extension": ".py",
   "mimetype": "text/x-python",
   "name": "python",
   "nbconvert_exporter": "python",
   "pygments_lexer": "ipython3",
   "version": "3.11.8"
  },
  "rise": {
   "center": false,
   "enable_chalkboard": true,
   "transition": "fade"
  }
 },
 "nbformat": 4,
 "nbformat_minor": 4
}

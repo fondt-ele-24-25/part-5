{
 "cells": [
  {
   "cell_type": "markdown",
   "metadata": {
    "slideshow": {
     "slide_type": "subslide"
    }
   },
   "source": [
    "## Esercizio: Minimizazzione di un Prodotto\n",
    "\n",
    "**Si definisca una funzione:**\n",
    "\n",
    "```python\n",
    "def minimize_prod(s)\n",
    "```\n",
    "\n",
    "Che, dato in ingresso un numero naturale $s$\n",
    "\n",
    "* Trovi i due numeri naturali $a > 0$ e $b > 0$ tali che $a + b = s$\n",
    "* ...Ed il prodotto $a b$ ha valore _minimo_\n",
    "\n",
    "Il problema può essere risolto enumerando le possibili combinazioni (come nel caso precedente)\n",
    "\n",
    "**Qualche annotazione**\n",
    "\n",
    "* Il codice deve essere contenuto in una singola cella\n",
    "* Si effettuino esperimenti con diversi valori di $s$: notata qualche regolarità?"
   ]
  },
  {
   "cell_type": "markdown",
   "metadata": {
    "slideshow": {
     "slide_type": "subslide"
    }
   },
   "source": [
    "## Esercizio: Minimizzazione di un Prodotto\n",
    "\n",
    "**Di seguito una possibile soluzione**"
   ]
  },
  {
   "cell_type": "code",
   "execution_count": 2,
   "metadata": {},
   "outputs": [
    {
     "name": "stdout",
     "output_type": "stream",
     "text": [
      "Soluzione con s = 10: (1, 9)\n",
      "Soluzione con s = 20: (1, 19)\n",
      "Soluzione con s = 24: (1, 23)\n"
     ]
    }
   ],
   "source": [
    "def minimize_prod(s):\n",
    "    best_a, best_prod = None, None\n",
    "    for a in range(1, s): # per garantire a > 0, b > 0\n",
    "        b = s - a # determino b\n",
    "        prod = a * b # calcolo il prodotto\n",
    "        if best_a is None or prod < best_prod:\n",
    "            best_prod = prod\n",
    "            best_a = a\n",
    "    return best_a, s - best_a # restituisco i migliori a e b\n",
    "\n",
    "s1 = 10\n",
    "print(f'Soluzione con s = {s1}: {minimize_prod(s1)}')\n",
    "s2 = 20\n",
    "print(f'Soluzione con s = {s2}: {minimize_prod(s2)}')\n",
    "s3 = 24\n",
    "print(f'Soluzione con s = {s3}: {minimize_prod(s3)}')"
   ]
  },
  {
   "cell_type": "markdown",
   "metadata": {},
   "source": [
    "Il valore minimize è ottenuto quando $a = 1$ (o $b = 1$)"
   ]
  }
 ],
 "metadata": {
  "celltoolbar": "Slideshow",
  "kernelspec": {
   "display_name": "Python 3 (ipykernel)",
   "language": "python",
   "name": "python3"
  },
  "language_info": {
   "codemirror_mode": {
    "name": "ipython",
    "version": 3
   },
   "file_extension": ".py",
   "mimetype": "text/x-python",
   "name": "python",
   "nbconvert_exporter": "python",
   "pygments_lexer": "ipython3",
   "version": "3.11.11"
  },
  "rise": {
   "center": false,
   "enable_chalkboard": true,
   "transition": "fade"
  }
 },
 "nbformat": 4,
 "nbformat_minor": 4
}

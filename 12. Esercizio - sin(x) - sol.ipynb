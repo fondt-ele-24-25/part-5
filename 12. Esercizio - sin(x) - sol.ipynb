{
 "cells": [
  {
   "cell_type": "markdown",
   "metadata": {
    "slideshow": {
     "slide_type": "subslide"
    }
   },
   "source": [
    "## Esercizio: sin(x)\n",
    "\n",
    "**Si scriva un programma che approssimi il valore $\\sin(x)$**\n",
    "\n",
    "...Usando il suo sviluppo in serie di Taylor:\n",
    "\n",
    "$$\n",
    "\\sin(x) \\simeq \\sum_{n = 0}^m (-1)^{n} \\frac{x^{2n+1}}{(2n+1)!}\n",
    "$$\n",
    "\n",
    "* Si tronchi la serie quando $\\left|\\frac{x^{2n+1}}{(2n+1)!}\\right| < \\varepsilon$, o dopo $m+1$ iterazioni\n",
    "* Si stampi su terminale anche il numero di iterazioni effettuate\n",
    "* Il codice deve essere contenuto in un'unica cella\n",
    "* Per facilitare la verifica, si tenga presente che:\n",
    "\n",
    "$$\n",
    "\\sin(0.5) \\simeq 0.479 \\quad \\sin(1) \\simeq 0.841 \\quad \\ln(2) \\simeq 0.909\n",
    "$$"
   ]
  },
  {
   "cell_type": "markdown",
   "metadata": {
    "slideshow": {
     "slide_type": "subslide"
    }
   },
   "source": [
    "## Esercizio: sin(x)\n",
    "\n",
    "**Di seguito una possibile soluzione**"
   ]
  },
  {
   "cell_type": "code",
   "execution_count": 12,
   "metadata": {},
   "outputs": [
    {
     "name": "stdout",
     "output_type": "stream",
     "text": [
      "\\sin(0.500) ~= 0.479\n",
      "Num. iterazioni: 4\n"
     ]
    }
   ],
   "source": [
    "# Dati del problema\n",
    "x = 0.5\n",
    "m, eps = 1000, 1e-6\n",
    "\n",
    "res = 0 # valore di partenza per la somma\n",
    "for n in range(0, m+1):\n",
    "    # Calcolo il segno dell'incremento\n",
    "    sgn = 1 if n % 2 == 0 else -1\n",
    "    # Calcolo il fattoriale\n",
    "    fact = 1\n",
    "    for i in range(1, 2*n+1+1):\n",
    "        fact *= i\n",
    "    # Determino il valore dell'incremento\n",
    "    val = sgn * x**(2*n+1) / fact\n",
    "    # Determino se sia necessario fermarsi\n",
    "    if abs(val) < eps:\n",
    "        break\n",
    "    # aggiorno res\n",
    "    res += val\n",
    "    \n",
    "print(f'\\sin({x:.3f}) ~= {res:.3f}')\n",
    "print(f'Num. iterazioni: {n}')"
   ]
  }
 ],
 "metadata": {
  "celltoolbar": "Slideshow",
  "kernelspec": {
   "display_name": "Python 3 (ipykernel)",
   "language": "python",
   "name": "python3"
  },
  "language_info": {
   "codemirror_mode": {
    "name": "ipython",
    "version": 3
   },
   "file_extension": ".py",
   "mimetype": "text/x-python",
   "name": "python",
   "nbconvert_exporter": "python",
   "pygments_lexer": "ipython3",
   "version": "3.11.11"
  },
  "rise": {
   "center": false,
   "enable_chalkboard": true,
   "transition": "fade"
  }
 },
 "nbformat": 4,
 "nbformat_minor": 4
}

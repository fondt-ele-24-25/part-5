{
 "cells": [
  {
   "cell_type": "markdown",
   "metadata": {
    "slideshow": {
     "slide_type": "subslide"
    }
   },
   "source": [
    "## Esempio: Esponenziale\n",
    "\n",
    "**Si definisca una funzione:**\n",
    "\n",
    "```python\n",
    "def factorial(n)\n",
    "```\n",
    "\n",
    "...Che calcoli il fattoriale del parametro di ingresso `n`.\n",
    "\n",
    "**La si utilizzi quindi per definire una seconda funzione:**\n",
    "\n",
    "```python\n",
    "def exponential(x, m)\n",
    "```\n",
    "\n",
    "...Che approssimi $e^x$ usando il suo sviluppo in serie di Taylor troncata:\n",
    "\n",
    "$$\n",
    "e^x \\simeq \\sum_{n = 0}^m \\frac{x^n}{n!}\n",
    "$$"
   ]
  },
  {
   "cell_type": "markdown",
   "metadata": {
    "slideshow": {
     "slide_type": "subslide"
    }
   },
   "source": [
    "## Esempio: Esponenziale\n",
    "\n",
    "**Si verifichi (per stampa) la validità delle seguenti affermazioni:**\n",
    "\n",
    "$$\n",
    "e^2 \\simeq 7.389 \\quad e^3 \\simeq 20.086 \\quad e^4 \\simeq 54.598\n",
    "$$\n",
    "\n",
    "* Si utilizzi un ciclo per gestire la stampa dei valori\n",
    "\n",
    "**Alcune note:**\n",
    "\n",
    "* Il codice dell'esercizio analogo nella parte 4 è disponibile come riferimento\n",
    "* Il codice deve essere contenuto in un'unica cella\n",
    "* Si effettuino esperimenti con diversi valori di $x$ ed $m$"
   ]
  },
  {
   "cell_type": "markdown",
   "metadata": {
    "slideshow": {
     "slide_type": "subslide"
    }
   },
   "source": [
    "## Esempio: Esponenziale\n",
    "\n",
    "**Una possibile soluzione dell'esercizio:**"
   ]
  },
  {
   "cell_type": "code",
   "execution_count": 3,
   "metadata": {},
   "outputs": [
    {
     "name": "stdout",
     "output_type": "stream",
     "text": [
      "e^2 ~= 7.389\n",
      "e^3 ~= 20.086\n",
      "e^4 ~= 54.598\n"
     ]
    }
   ],
   "source": [
    "m = 16\n",
    "\n",
    "def factorial(n):\n",
    "    res = 1\n",
    "    for i in range(1, n+1):\n",
    "        res *= i\n",
    "    return res\n",
    "\n",
    "def exponential(x, m):\n",
    "    return sum(x**n / factorial(n) for n in range(m+1))\n",
    "\n",
    "for x in range(2, 4+1):\n",
    "    print(f'e^{x} ~= {exponential(x, m):.3f}')"
   ]
  }
 ],
 "metadata": {
  "celltoolbar": "Slideshow",
  "kernelspec": {
   "display_name": "Python 3 (ipykernel)",
   "language": "python",
   "name": "python3"
  },
  "language_info": {
   "codemirror_mode": {
    "name": "ipython",
    "version": 3
   },
   "file_extension": ".py",
   "mimetype": "text/x-python",
   "name": "python",
   "nbconvert_exporter": "python",
   "pygments_lexer": "ipython3",
   "version": "3.11.8"
  },
  "rise": {
   "center": false,
   "enable_chalkboard": true,
   "transition": "fade"
  }
 },
 "nbformat": 4,
 "nbformat_minor": 4
}

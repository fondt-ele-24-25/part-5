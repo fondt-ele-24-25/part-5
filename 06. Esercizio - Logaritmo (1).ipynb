{
 "cells": [
  {
   "cell_type": "markdown",
   "metadata": {
    "slideshow": {
     "slide_type": "subslide"
    }
   },
   "source": [
    "## Esercizio: Logaritmo (1)\n",
    "\n",
    "**Si definisca una funzione:**\n",
    "\n",
    "```python\n",
    "def log1_plus_x(x, m)\n",
    "```\n",
    "\n",
    "Che approssimi $\\ln(1+x)$, con $|x| < 1$, usando una serie di Taylor:\n",
    "\n",
    "$$\n",
    "\\ln(1+x) \\simeq \\sum_{n = 1}^m (-1)^{n+1} \\frac{x^n}{n}\n",
    "$$\n",
    "\n",
    "* Il codice dell'esercizio analogo nella parte 4 è disponibile come riferimento\n",
    "* Il codice deve essere contenuto in un'unica cella\n",
    "* Utilizzando un ciclo, si effettuino esperimenti per:\n",
    "\n",
    "$$\n",
    "\\ln(1+0.1) \\simeq 0.095 \\quad \\ln(1+0.2) \\simeq 0.182 \\quad \\ln(1+0.3) \\simeq 0.262\n",
    "$$"
   ]
  },
  {
   "cell_type": "markdown",
   "metadata": {
    "slideshow": {
     "slide_type": "subslide"
    }
   },
   "source": [
    "## Esercizio: Logaritmo (1)\n",
    "\n",
    "**Di seguito il codice di riferimento**"
   ]
  },
  {
   "cell_type": "code",
   "execution_count": 1,
   "metadata": {},
   "outputs": [
    {
     "name": "stdout",
     "output_type": "stream",
     "text": [
      "log(1+0.100) ~= 0.095\n"
     ]
    }
   ],
   "source": [
    "# Dati del problema\n",
    "x = 0.1\n",
    "m = 15\n",
    "\n",
    "res = sum((-1)**(n+1) * x**n / n for n in range(1, m+1))\n",
    "\n",
    "print(f'log(1+{x:.3f}) ~= {res:.3f}')"
   ]
  }
 ],
 "metadata": {
  "celltoolbar": "Slideshow",
  "kernelspec": {
   "display_name": "Python 3 (ipykernel)",
   "language": "python",
   "name": "python3"
  },
  "language_info": {
   "codemirror_mode": {
    "name": "ipython",
    "version": 3
   },
   "file_extension": ".py",
   "mimetype": "text/x-python",
   "name": "python",
   "nbconvert_exporter": "python",
   "pygments_lexer": "ipython3",
   "version": "3.11.8"
  },
  "rise": {
   "center": false,
   "enable_chalkboard": true,
   "transition": "fade"
  }
 },
 "nbformat": 4,
 "nbformat_minor": 4
}

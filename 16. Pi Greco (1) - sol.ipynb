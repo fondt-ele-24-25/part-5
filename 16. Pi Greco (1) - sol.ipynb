{
 "cells": [
  {
   "cell_type": "markdown",
   "id": "1850245e-7525-4a88-9a45-048551138046",
   "metadata": {},
   "source": [
    "## Approssimazione di Pi-Greco (1)\n",
    "\n",
    "**Si definisca una funzione:**\n",
    "\n",
    "```python\n",
    "def Newton(n)\n",
    "```\n",
    "\n",
    "Che approssima Pi Greco con _n_ iterazioni del metodo di Newton, partendo da _p = 8_:\n",
    "\n",
    "$$\n",
    "\\pi \\simeq \\sum_{k = 0}^n \\frac{p + 20}{e^{p} - 1}\n",
    "$$\n",
    "\n",
    "dove _e_ è il Numero di Eulero, uguale a 2.71828...\n",
    "\n",
    "_Indizio: leggere molto bene il testo e le variabili della formula!_\n",
    "\n"
   ]
  },
  {
   "cell_type": "code",
   "execution_count": 29,
   "id": "144c0981-f388-4bae-9269-74cc44b30094",
   "metadata": {},
   "outputs": [
    {
     "name": "stdout",
     "output_type": "stream",
     "text": [
      "3.1416355114721513\n"
     ]
    }
   ],
   "source": [
    "e = 2.71828\n",
    "\n",
    "def Newton(n):\n",
    "    # Parto da p = 8\n",
    "    pi = 8\n",
    "    # Itero su n, anche se k non viene utilizzato nella formula\n",
    "    for k in range(0, n+1):\n",
    "        pi += (pi + 20) / e**pi - 1\n",
    "    # A fine calcolo ritorno la somma accumulata\n",
    "    return pi\n",
    "    \n",
    "print(Newton(1000000))"
   ]
  }
 ],
 "metadata": {
  "kernelspec": {
   "display_name": "Python 3 (ipykernel)",
   "language": "python",
   "name": "python3"
  },
  "language_info": {
   "codemirror_mode": {
    "name": "ipython",
    "version": 3
   },
   "file_extension": ".py",
   "mimetype": "text/x-python",
   "name": "python",
   "nbconvert_exporter": "python",
   "pygments_lexer": "ipython3",
   "version": "3.11.11"
  }
 },
 "nbformat": 4,
 "nbformat_minor": 5
}

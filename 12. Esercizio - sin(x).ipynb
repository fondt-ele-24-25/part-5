{
 "cells": [
  {
   "cell_type": "markdown",
   "metadata": {
    "slideshow": {
     "slide_type": "subslide"
    }
   },
   "source": [
    "## Esercizio: sin(x)\n",
    "\n",
    "**Si scriva un programma che approssimi il valore $\\sin(x)$**\n",
    "\n",
    "...Usando il suo sviluppo in serie di Taylor:\n",
    "\n",
    "$$\n",
    "\\sin(x) \\simeq \\sum_{n = 0}^m (-1)^{n} \\frac{x^{2n+1}}{(2n+1)!}\n",
    "$$\n",
    "\n",
    "* Si tronchi la serie quando $\\left|\\frac{x^{2n+1}}{(2n+1)!}\\right| < \\varepsilon$, o dopo $m+1$ iterazioni\n",
    "* Si stampi su terminale anche il numero di iterazioni effettuate\n",
    "* Il codice deve essere contenuto in un'unica cella\n",
    "* Per facilitare la verifica, si tenga presente che:\n",
    "\n",
    "$$\n",
    "\\sin(0.5) \\simeq 0.479 \\quad \\sin(1) \\simeq 0.841 \\quad \\ln(2) \\simeq 0.909\n",
    "$$"
   ]
  },
  {
   "cell_type": "markdown",
   "metadata": {
    "slideshow": {
     "slide_type": "subslide"
    }
   },
   "source": [
    "## Esercizio: sin(x)\n",
    "\n",
    "**Di seguito una possibile soluzione**"
   ]
  },
  {
   "cell_type": "code",
   "execution_count": 1,
   "metadata": {},
   "outputs": [],
   "source": [
    "# Dati del problema\n",
    "x = 0.5\n",
    "m, eps = 1000, 1e-6"
   ]
  }
 ],
 "metadata": {
  "celltoolbar": "Slideshow",
  "kernelspec": {
   "display_name": "Python 3 (ipykernel)",
   "language": "python",
   "name": "python3"
  },
  "language_info": {
   "codemirror_mode": {
    "name": "ipython",
    "version": 3
   },
   "file_extension": ".py",
   "mimetype": "text/x-python",
   "name": "python",
   "nbconvert_exporter": "python",
   "pygments_lexer": "ipython3",
   "version": "3.11.11"
  },
  "rise": {
   "center": false,
   "enable_chalkboard": true,
   "transition": "fade"
  }
 },
 "nbformat": 4,
 "nbformat_minor": 4
}

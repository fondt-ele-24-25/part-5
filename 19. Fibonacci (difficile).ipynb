{
 "cells": [
  {
   "cell_type": "markdown",
   "id": "d6fabfd5-88cf-4382-b9cd-bb348b4af90c",
   "metadata": {},
   "source": [
    "## Numeri di Fibonacci\n",
    "\n",
    "**Si definisca una funzione:**\n",
    "\n",
    "```python\n",
    "def Fibonacci(n)\n",
    "```\n",
    "\n",
    "...che calcoli il valore dell'elemento numero _n_ della serie di Fibonacci:\n",
    "\n",
    "$$\n",
    "Fibonacci(1) = 1; \\hspace{0.5 cm} Fibonacci(2) = 1; \\hspace{0.5 cm} Fibonacci(n) = Fibonacci(n-1) + Fibonacci(n-2)\n",
    "$$\n",
    "\n",
    "_Indizio: siccome ogni numero dipende dai due precedenti, conviene usare più accumulatori (variabili) per far \"scorrere\" la serie!_\n"
   ]
  },
  {
   "cell_type": "code",
   "execution_count": null,
   "id": "a64184dd-9af2-4725-94a9-1e1d04bd9c49",
   "metadata": {},
   "outputs": [],
   "source": []
  }
 ],
 "metadata": {
  "kernelspec": {
   "display_name": "Python 3 (ipykernel)",
   "language": "python",
   "name": "python3"
  },
  "language_info": {
   "codemirror_mode": {
    "name": "ipython",
    "version": 3
   },
   "file_extension": ".py",
   "mimetype": "text/x-python",
   "name": "python",
   "nbconvert_exporter": "python",
   "pygments_lexer": "ipython3",
   "version": "3.11.11"
  }
 },
 "nbformat": 4,
 "nbformat_minor": 5
}

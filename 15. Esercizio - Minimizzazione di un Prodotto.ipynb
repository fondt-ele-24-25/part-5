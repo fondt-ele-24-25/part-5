{
 "cells": [
  {
   "cell_type": "markdown",
   "metadata": {
    "slideshow": {
     "slide_type": "subslide"
    }
   },
   "source": [
    "## Esercizio: Minimizzazione di un Prodotto\n",
    "\n",
    "**Si definisca una funzione:**\n",
    "\n",
    "```python\n",
    "def minimize_prod(s)\n",
    "```\n",
    "\n",
    "Che, dato in ingresso un numero naturale $s$\n",
    "\n",
    "* Trovi i due numeri naturali $a > 0$ e $b > 0$ tali che $a + b = s$\n",
    "* ...Ed il prodotto $a b$ ha valore _minimo_\n",
    "\n",
    "Il problema può essere risolto enumerando le possibili combinazioni (come nel caso precedente)\n",
    "\n",
    "**Qualche annotazione**\n",
    "\n",
    "* Il codice deve essere contenuto in una singola cella\n",
    "* Si effettuino esperimenti con diversi valori di $s$: notata qualche regolarità?"
   ]
  },
  {
   "cell_type": "code",
   "execution_count": null,
   "metadata": {},
   "outputs": [],
   "source": []
  }
 ],
 "metadata": {
  "celltoolbar": "Slideshow",
  "kernelspec": {
   "display_name": "Python 3 (ipykernel)",
   "language": "python",
   "name": "python3"
  },
  "language_info": {
   "codemirror_mode": {
    "name": "ipython",
    "version": 3
   },
   "file_extension": ".py",
   "mimetype": "text/x-python",
   "name": "python",
   "nbconvert_exporter": "python",
   "pygments_lexer": "ipython3",
   "version": "3.11.11"
  },
  "rise": {
   "center": false,
   "enable_chalkboard": true,
   "transition": "fade"
  }
 },
 "nbformat": 4,
 "nbformat_minor": 4
}

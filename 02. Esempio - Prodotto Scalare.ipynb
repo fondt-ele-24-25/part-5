{
 "cells": [
  {
   "cell_type": "markdown",
   "metadata": {
    "slideshow": {
     "slide_type": "subslide"
    }
   },
   "source": [
    "## Esempio: Prodotto Scalare\n",
    "\n",
    "**Si definisca una funzione**\n",
    "\n",
    "```python\n",
    "def scal_prod(a, b)\n",
    "```\n",
    "\n",
    "...Che calcoli il prodotto scalare di due liste `a` e `b`, i.e.:\n",
    "\n",
    "$$\n",
    "\\sum_{i = 0}^{n-1} a_i b_i\n",
    "$$\n",
    "\n",
    "* Il codice dell'esercizio analogo nella parte 4 è disponibile come riferimento\n",
    "* Il codice deve essere contenuto in un'unica cella\n",
    "* Si effettuino esperimenti con diverse liste"
   ]
  },
  {
   "cell_type": "markdown",
   "metadata": {
    "slideshow": {
     "slide_type": "subslide"
    }
   },
   "source": [
    "## Esempio: Prodotto Scalare\n",
    "\n",
    "**Il codice da usare come riferimento è:**"
   ]
  },
  {
   "cell_type": "code",
   "execution_count": 1,
   "metadata": {},
   "outputs": [
    {
     "name": "stdout",
     "output_type": "stream",
     "text": [
      "prodotto scalare = 6.000\n"
     ]
    }
   ],
   "source": [
    "# Dati del problema\n",
    "l1 = [2, 3, 6, 1]\n",
    "l2 = [-1, 2, 1, -4]\n",
    "\n",
    "res = sum(a * b for a, b in zip(l1, l2))\n",
    "    \n",
    "print(f'prodotto scalare = {res:.3f}')"
   ]
  },
  {
   "cell_type": "markdown",
   "metadata": {},
   "source": [
    "**Una possibile soluzione per l'esercizio:**"
   ]
  },
  {
   "cell_type": "code",
   "execution_count": 2,
   "metadata": {},
   "outputs": [
    {
     "name": "stdout",
     "output_type": "stream",
     "text": [
      "prodotto scalare = 6.000\n"
     ]
    }
   ],
   "source": [
    "def scal_prod(a, b):\n",
    "    return sum(v * w for v, w in zip(a, b))\n",
    "\n",
    "# Dati del problema\n",
    "l1 = [2, 3, 6, 1]\n",
    "l2 = [-1, 2, 1, -4]\n",
    "    \n",
    "res = scal_prod(l1, l2)\n",
    "print(f'prodotto scalare = {res:.3f}')"
   ]
  }
 ],
 "metadata": {
  "celltoolbar": "Slideshow",
  "kernelspec": {
   "display_name": "Python 3 (ipykernel)",
   "language": "python",
   "name": "python3"
  },
  "language_info": {
   "codemirror_mode": {
    "name": "ipython",
    "version": 3
   },
   "file_extension": ".py",
   "mimetype": "text/x-python",
   "name": "python",
   "nbconvert_exporter": "python",
   "pygments_lexer": "ipython3",
   "version": "3.11.11"
  },
  "rise": {
   "center": false,
   "enable_chalkboard": true,
   "transition": "fade"
  }
 },
 "nbformat": 4,
 "nbformat_minor": 4
}

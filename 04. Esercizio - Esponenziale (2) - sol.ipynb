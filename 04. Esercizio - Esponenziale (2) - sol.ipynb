{
 "cells": [
  {
   "cell_type": "markdown",
   "metadata": {
    "slideshow": {
     "slide_type": "subslide"
    }
   },
   "source": [
    "## Esercizio: Esponenziale (2)\n",
    "\n",
    "**Si definisca una funzione**\n",
    "\n",
    "```python\n",
    "def exponential(x, m=1000, eps=1e-6)\n",
    "```\n",
    "\n",
    "La funzione deve approssimare il valore $e^x$ usando il suo sviluppo in serie di Taylor:\n",
    "\n",
    "$$\n",
    "e^x \\simeq \\sum_{n = 0}^\\infty \\frac{x^n}{n!}\n",
    "$$\n",
    "\n",
    "* Si tronchi la serie quando $x^n / n! < \\varepsilon$, o dopo $m$ iterazioni\n",
    "* Si stampi su terminale anche il numero di iterazioni effettuate\n",
    "* Il codice deve essere contenuto in un'unica cella\n",
    "* Per facilitare la verifica, si tenga presente che:\n",
    "\n",
    "$$\n",
    "e^2 \\simeq 7.389 \\quad e^3 \\simeq 20.086 \\quad e^4 \\simeq 54.598\n",
    "$$"
   ]
  },
  {
   "cell_type": "markdown",
   "metadata": {
    "slideshow": {
     "slide_type": "subslide"
    }
   },
   "source": [
    "## Esercizio: Esponenziale (2)\n",
    "\n",
    "**Di seguito una possibile soluzione**"
   ]
  },
  {
   "cell_type": "code",
   "execution_count": 1,
   "metadata": {},
   "outputs": [
    {
     "name": "stdout",
     "output_type": "stream",
     "text": [
      "e^2 ~= 7.389\n",
      "e^3 ~= 20.086\n",
      "e^4 ~= 54.598\n"
     ]
    }
   ],
   "source": [
    "m = 1000\n",
    "eps = 1e-6\n",
    "\n",
    "def factorial(n):\n",
    "    res = 1\n",
    "    for i in range(1, n+1):\n",
    "        res *= i\n",
    "    return res\n",
    "\n",
    "def exponential(x, m=1000, eps=1e-6):\n",
    "    # Preparo una variabile per il risultato\n",
    "    res = 0\n",
    "    for n in range(m):\n",
    "        # calcolo il valore dell'incremento\n",
    "        val = x**n / factorial(n)\n",
    "        # determino se sia necessario fermarsi\n",
    "        if val < eps:\n",
    "            break\n",
    "        # aggiorno il risultato\n",
    "        res += val\n",
    "    # Restituisco il risultato\n",
    "    return res\n",
    "\n",
    "for x in range(2, 4+1):\n",
    "    print(f'e^{x} ~= {exponential(x, m):.3f}')"
   ]
  }
 ],
 "metadata": {
  "celltoolbar": "Slideshow",
  "kernelspec": {
   "display_name": "Python 3 (ipykernel)",
   "language": "python",
   "name": "python3"
  },
  "language_info": {
   "codemirror_mode": {
    "name": "ipython",
    "version": 3
   },
   "file_extension": ".py",
   "mimetype": "text/x-python",
   "name": "python",
   "nbconvert_exporter": "python",
   "pygments_lexer": "ipython3",
   "version": "3.11.11"
  },
  "rise": {
   "center": false,
   "enable_chalkboard": true,
   "transition": "fade"
  }
 },
 "nbformat": 4,
 "nbformat_minor": 4
}

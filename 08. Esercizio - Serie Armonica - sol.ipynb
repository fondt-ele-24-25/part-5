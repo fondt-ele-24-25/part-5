{
 "cells": [
  {
   "cell_type": "markdown",
   "metadata": {
    "slideshow": {
     "slide_type": "subslide"
    }
   },
   "source": [
    "## Esercizio: Serie Armonica\n",
    "\n",
    "**Si definisca una funzione:**\n",
    "\n",
    "```python\n",
    "def harmonic(m)\n",
    "```\n",
    "\n",
    "Che calcoli la serie armonica troncata:\n",
    "\n",
    "$$\n",
    "\\sum_{n=1}^m \\frac{1}{n}\n",
    "$$\n",
    "\n",
    "* Si effettuino esperimenti per $m = \\{1, 10, 10^2, 10^3, 10^4, 10^5\\}$\n",
    "  - Allo scopo, si utilizzi un ciclo\n",
    "* Il codice deve essere contenuto in un'unica cella"
   ]
  },
  {
   "cell_type": "markdown",
   "metadata": {
    "slideshow": {
     "slide_type": "subslide"
    }
   },
   "source": [
    "## Esercizio: Serie Armonica\n",
    "\n",
    "**Di seguito una possibile soluzione**"
   ]
  },
  {
   "cell_type": "code",
   "execution_count": 1,
   "metadata": {},
   "outputs": [
    {
     "name": "stdout",
     "output_type": "stream",
     "text": [
      "somma troncata con m = 1.0: 1.000000\n",
      "somma troncata con m = 10.0: 2.928968\n",
      "somma troncata con m = 100.0: 5.187378\n",
      "somma troncata con m = 1000.0: 7.485471\n",
      "somma troncata con m = 10000.0: 9.787606\n",
      "somma troncata con m = 100000.0: 12.090146\n"
     ]
    }
   ],
   "source": [
    "def harmonic(m):\n",
    "    return sum(1/n for n in range(1, m+1))\n",
    "\n",
    "for m in [1e0, 1e1, 1e2, 1e3, 1e4, 1e5]:\n",
    "    print(f'somma troncata con m = {m}: {harmonic(int(m)):.6f}')"
   ]
  }
 ],
 "metadata": {
  "celltoolbar": "Slideshow",
  "kernelspec": {
   "display_name": "Python 3 (ipykernel)",
   "language": "python",
   "name": "python3"
  },
  "language_info": {
   "codemirror_mode": {
    "name": "ipython",
    "version": 3
   },
   "file_extension": ".py",
   "mimetype": "text/x-python",
   "name": "python",
   "nbconvert_exporter": "python",
   "pygments_lexer": "ipython3",
   "version": "3.11.8"
  },
  "rise": {
   "center": false,
   "enable_chalkboard": true,
   "transition": "fade"
  }
 },
 "nbformat": 4,
 "nbformat_minor": 4
}

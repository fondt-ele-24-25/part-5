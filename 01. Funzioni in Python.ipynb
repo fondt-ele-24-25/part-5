{
 "cells": [
  {
   "cell_type": "markdown",
   "metadata": {
    "slideshow": {
     "slide_type": "slide"
    }
   },
   "source": [
    "# Definizione di Funzioni"
   ]
  },
  {
   "cell_type": "markdown",
   "metadata": {
    "slideshow": {
     "slide_type": "subslide"
    }
   },
   "source": [
    "## Definizione di Funzioni\n",
    "\n",
    "**Abbiamo già parlato di funzioni in Pyhon**\n",
    "\n",
    "...Ed abbiamo detto che, quando vengono _chiamate_:\n",
    "\n",
    "* Eseguno un _sottoprogramma_\n",
    "* Denotano (o \"restituiscono\") un valore\n",
    "  - In casi particolari (e.g. `print`) possono denotare `None`\n",
    "* Possono riceve dei dati in ingresso (argomenti)\n",
    "\n",
    "**Vedremo ora come _definire nuove funzioni_**\n",
    "\n",
    "* Sarà nostro compito specificare il sotto programma da eseguire\n",
    "* ...Così come i dati in ingresso ed il valore da restituire\n",
    "\n",
    "La funzione potrà quindi essere chiamata normalmente"
   ]
  },
  {
   "cell_type": "markdown",
   "metadata": {
    "slideshow": {
     "slide_type": "subslide"
    }
   },
   "source": [
    "## Definizione di Funzioni\n",
    "\n",
    "**Per definire una funzione si usa l'istruzione seguente:**\n",
    "\n",
    "```\n",
    "def <nome>(<parametri>):\n",
    "    <corpo>\n",
    "```\n",
    "\n",
    "L'istruzione informa l'interprete dell'esistenza di _una nuova funzione_:\n",
    "\n",
    "* `<nome>` è il nome della funzione\n",
    "  - Segue le regole degli identificatori (e.g. nomi di variabili)\n",
    "* `<parametri>` è una sequenza di 0 o più _nomi di variabile_\n",
    "  - Si usa la virgola come separatore\n",
    "  - I nomi di variabile sono _per uso interno_ alla funzione \n",
    "* `<corpo>` è una sequenza di istruzioni\n",
    "  - Rappresenta il sottoprogramma da eseguire"
   ]
  },
  {
   "cell_type": "markdown",
   "metadata": {
    "slideshow": {
     "slide_type": "subslide"
    }
   },
   "source": [
    "## Definizione di Funzioni\n",
    "\n",
    "**Qualche esempio (per adesso focalizzatevi sulla sintassi)**\n",
    "\n",
    "Elevamento a potenza:"
   ]
  },
  {
   "cell_type": "code",
   "execution_count": 1,
   "metadata": {},
   "outputs": [],
   "source": [
    "def potenza(a, b):\n",
    "    return a**b"
   ]
  },
  {
   "cell_type": "markdown",
   "metadata": {},
   "source": [
    "* Il nome della funzione è `potenza`\n",
    "* La funzione riceve in ingresso due argomenti (o _ha due parametri_)\n",
    "* I due parametri si chiamano (internamente) `a` e `b`\n",
    "* Il corpo consiste di una sola istruzione, i.e. `return a**b`"
   ]
  },
  {
   "cell_type": "markdown",
   "metadata": {
    "slideshow": {
     "slide_type": "subslide"
    }
   },
   "source": [
    "## Definizione di Funzioni\n",
    "\n",
    "**Qualche esempio (per adesso focalizzatevi sulla sintassi)**\n",
    "\n",
    "Determinare se un numero sia pari:"
   ]
  },
  {
   "cell_type": "code",
   "execution_count": 2,
   "metadata": {},
   "outputs": [],
   "source": [
    "def pari(num):\n",
    "    return num % 2 == 0"
   ]
  },
  {
   "cell_type": "markdown",
   "metadata": {},
   "source": [
    "* Il nome della funzione è `pari`\n",
    "* La funzione riceve ingresso un solo argomento/ha un solo parametro\n",
    "* Il parametro si chiama (internamente) `num`\n",
    "* Il corpo consiste dell'istruzione `return num % 2 == 0`"
   ]
  },
  {
   "cell_type": "markdown",
   "metadata": {
    "slideshow": {
     "slide_type": "subslide"
    }
   },
   "source": [
    "## Definizione di Funzioni\n",
    "\n",
    "**Qualche esempio (per adesso focalizzatevi sulla sintassi)**\n",
    "\n",
    "Stampa \"ciao mondo\":"
   ]
  },
  {
   "cell_type": "code",
   "execution_count": 3,
   "metadata": {},
   "outputs": [],
   "source": [
    "def ciao():\n",
    "    print('ciao mondo')"
   ]
  },
  {
   "cell_type": "markdown",
   "metadata": {},
   "source": [
    "* Il nome della funzione è `ciao`\n",
    "* La funzione non ha argomenti/non ha parametri\n",
    "* Il corpo consiste dell'istruzione `print('ciao mondo')`"
   ]
  },
  {
   "cell_type": "markdown",
   "metadata": {
    "slideshow": {
     "slide_type": "subslide"
    }
   },
   "source": [
    "## Definizione di Funzioni\n",
    "\n",
    "**Qualche esempio (per adesso focalizzatevi sulla sintassi)**\n",
    "\n",
    "Una funzione che non fa nulla"
   ]
  },
  {
   "cell_type": "code",
   "execution_count": 4,
   "metadata": {},
   "outputs": [],
   "source": [
    "def bozza(num):\n",
    "    pass"
   ]
  },
  {
   "cell_type": "markdown",
   "metadata": {},
   "source": [
    "* Il nome della funzione è `bozza`\n",
    "* La funzione ha un singolo argomento/parametro (di nome `num`)\n",
    "* Il corpo consiste dell'istruzione `pass`\n",
    "* ...Che in Python _non fa nulla_\n",
    "\n",
    "`pass` si usa spesso in fase di sviluppo, quando il corpo non è ancora chiaro"
   ]
  },
  {
   "cell_type": "markdown",
   "metadata": {
    "slideshow": {
     "slide_type": "subslide"
    }
   },
   "source": [
    "## Chiamare una Funzione Definita dall'Utente\n",
    "\n",
    "**Una funzione definita può essere chiamata come al solito**\n",
    "\n",
    "I.e. si usa la sintassi:\n",
    "\n",
    "```\n",
    "<nome>(<sequenza di espressioni>)\n",
    "```\n",
    "\n",
    "**Vediamo subito un esempio:**"
   ]
  },
  {
   "cell_type": "code",
   "execution_count": 5,
   "metadata": {},
   "outputs": [
    {
     "data": {
      "text/plain": [
       "16"
      ]
     },
     "execution_count": 5,
     "metadata": {},
     "output_type": "execute_result"
    }
   ],
   "source": [
    "def potenza(a, b):\n",
    "    return a**b\n",
    "\n",
    "potenza(2, 4)"
   ]
  },
  {
   "cell_type": "markdown",
   "metadata": {},
   "source": [
    "* Somiglia molto alla sintassi usate per definire una funzione\n",
    "* ...Ma manca la parola chiave `def`\n",
    "* ...E c'è _una seconda differenza chiave_"
   ]
  },
  {
   "cell_type": "markdown",
   "metadata": {
    "slideshow": {
     "slide_type": "subslide"
    }
   },
   "source": [
    "## Parametri Formali ed Attuali\n",
    "\n",
    "**Quando si _definisce_ una funzione**\n",
    "\n",
    "...I parametri specificati indicano dei _nomi di variabile_"
   ]
  },
  {
   "cell_type": "code",
   "execution_count": 6,
   "metadata": {},
   "outputs": [],
   "source": [
    "def potenza(a, b):\n",
    "    return a**b"
   ]
  },
  {
   "cell_type": "markdown",
   "metadata": {},
   "source": [
    "* Si parla in questo caso di _parametri formali_\n",
    "\n",
    "**Quando si _chiama_ una funzione**\n",
    "\n",
    "...I parametri specificati indicano delle espressioni"
   ]
  },
  {
   "cell_type": "code",
   "execution_count": 7,
   "metadata": {},
   "outputs": [
    {
     "data": {
      "text/plain": [
       "729"
      ]
     },
     "execution_count": 7,
     "metadata": {},
     "output_type": "execute_result"
    }
   ],
   "source": [
    "potenza(3, 6)"
   ]
  },
  {
   "cell_type": "markdown",
   "metadata": {},
   "source": [
    "* Si parla in questo caso di _parametri attuali_"
   ]
  },
  {
   "cell_type": "markdown",
   "metadata": {
    "slideshow": {
     "slide_type": "slide"
    }
   },
   "source": [
    "# Meccanismo di Chiamata a Funzione"
   ]
  },
  {
   "cell_type": "markdown",
   "metadata": {
    "slideshow": {
     "slide_type": "subslide"
    }
   },
   "source": [
    "## Meccanismo di Chiamata\n",
    "\n",
    "**La differenza è dovuta ai dettagli del meccanismo di chiamata**\n",
    "\n",
    "Quando una funzione viene chiamata:\n",
    "\n",
    "* Viene _allocata memoria_ per l'esecuzione del corpo\n",
    "* I _parametri attuali_ (espressioni) vengono valutati\n",
    "* I valori denotati vengono usati per rimpire i _parametri formali_\n",
    "* Il _corpo_ della funzione viene eseguito\n",
    "* Il controllo _torna al (codice) chiamante_\n",
    "* L'area di memoria predisposta viene _deallocata_\n",
    "\n",
    "**In particolare, per quanto riguarda i parametri**\n",
    "\n",
    "* I parametri formali sono le variabili da riempire\n",
    "* I parametri attuali restituiscono i valori con cui riempirle"
   ]
  },
  {
   "cell_type": "markdown",
   "metadata": {
    "slideshow": {
     "slide_type": "subslide"
    }
   },
   "source": [
    "## Esempi di Chiamata a Funzione\n",
    "\n",
    "**Vediamo qualche esempio (commentato)**\n",
    "\n",
    "Chiamata della funzione `pari`"
   ]
  },
  {
   "cell_type": "code",
   "execution_count": 8,
   "metadata": {},
   "outputs": [
    {
     "data": {
      "text/plain": [
       "True"
      ]
     },
     "execution_count": 8,
     "metadata": {},
     "output_type": "execute_result"
    }
   ],
   "source": [
    "def pari(num):\n",
    "    return num % 2 == 0\n",
    "\n",
    "pari(3 * 12 * 6)"
   ]
  },
  {
   "cell_type": "markdown",
   "metadata": {},
   "source": [
    "Durante la chiamata a funzione:\n",
    "\n",
    "* Viene predispone memoria per l'esecuzione del corpo\n",
    "* Viene valutato il parametro attuale `3 * 12 * 6`\n",
    "* Il valore denotato viene usato per riempire `num`\n",
    "* Il corpo della funzione esegue"
   ]
  },
  {
   "cell_type": "markdown",
   "metadata": {
    "slideshow": {
     "slide_type": "subslide"
    }
   },
   "source": [
    "## Esempi di Chiamata a Funzione\n",
    "\n",
    "**Vediamo qualche esempio (commentato)**\n",
    "\n",
    "Chiamata della funzione `pari`"
   ]
  },
  {
   "cell_type": "code",
   "execution_count": 9,
   "metadata": {},
   "outputs": [
    {
     "data": {
      "text/plain": [
       "True"
      ]
     },
     "execution_count": 9,
     "metadata": {},
     "output_type": "execute_result"
    }
   ],
   "source": [
    "def pari(num):\n",
    "    return num % 2 == 0\n",
    "\n",
    "pari(3 * 12 * 6)"
   ]
  },
  {
   "cell_type": "markdown",
   "metadata": {},
   "source": [
    "**L'istruzione `return` ha di norma la sintassi**\n",
    "\n",
    "```\n",
    "return <espressione>\n",
    "```\n",
    "\n",
    "* _Termina_ immediatamente la funzione\n",
    "* _Restituisce_ il valore dell'espressione al chiamante\n",
    "\n",
    "In questo modo possiamo specificare cosa la funzione debba restituire"
   ]
  },
  {
   "cell_type": "markdown",
   "metadata": {
    "slideshow": {
     "slide_type": "subslide"
    }
   },
   "source": [
    "## Esempi di Chiamata a Funzione\n",
    "\n",
    "**Vediamo qualche esempio (commentato)**\n",
    "\n",
    "Chiamata della funzione `potenza`"
   ]
  },
  {
   "cell_type": "code",
   "execution_count": 10,
   "metadata": {},
   "outputs": [
    {
     "data": {
      "text/plain": [
       "16"
      ]
     },
     "execution_count": 10,
     "metadata": {},
     "output_type": "execute_result"
    }
   ],
   "source": [
    "def potenza(a, b):\n",
    "    return a**b\n",
    "\n",
    "potenza(2, 4)"
   ]
  },
  {
   "cell_type": "markdown",
   "metadata": {},
   "source": [
    "**Se la funzione ha più di un parametro**\n",
    "\n",
    "...Il riempimento avviene con un criterio _posizionale_\n",
    "\n",
    "* Il primo parametro attuale (i.e. la prima espressione)\n",
    "* ...È usato per riempire il primo parametro formale (i.e. la prima variabile)"
   ]
  },
  {
   "cell_type": "markdown",
   "metadata": {
    "slideshow": {
     "slide_type": "subslide"
    }
   },
   "source": [
    "## Esempi di Chiamata a Funzione\n",
    "\n",
    "**Vediamo qualche esempio (commentato)**\n",
    "\n",
    "Chiamata della funzione `ciao`"
   ]
  },
  {
   "cell_type": "code",
   "execution_count": 11,
   "metadata": {},
   "outputs": [
    {
     "name": "stdout",
     "output_type": "stream",
     "text": [
      "ciao mondo\n"
     ]
    }
   ],
   "source": [
    "def ciao():\n",
    "    print('ciao mondo')\n",
    "\n",
    "ciao()"
   ]
  },
  {
   "cell_type": "markdown",
   "metadata": {},
   "source": [
    "**Se la funzione non ha parametri**\n",
    "\n",
    "* La fase di valutazione dei parametri attuali viene saltata\n",
    "* ...E così anche la fasi di riempimento dei parametri formali"
   ]
  },
  {
   "cell_type": "markdown",
   "metadata": {
    "slideshow": {
     "slide_type": "subslide"
    }
   },
   "source": [
    "## Esempi di Chiamata a Funzione\n",
    "\n",
    "**Vediamo qualche esempio (commentato)**\n",
    "\n",
    "Chiamata della funzione `ciao`"
   ]
  },
  {
   "cell_type": "code",
   "execution_count": 12,
   "metadata": {},
   "outputs": [
    {
     "name": "stdout",
     "output_type": "stream",
     "text": [
      "ciao mondo\n",
      "None\n"
     ]
    }
   ],
   "source": [
    "def ciao():\n",
    "    print('ciao mondo')\n",
    "\n",
    "x = ciao()\n",
    "print(x)"
   ]
  },
  {
   "cell_type": "markdown",
   "metadata": {},
   "source": [
    "**Se la funzione non ha una istruzione `return`**\n",
    "\n",
    "* Quando termina l'esecuzione del corpo\n",
    "* ...Viene automaticamente restituito `None`"
   ]
  },
  {
   "cell_type": "markdown",
   "metadata": {
    "slideshow": {
     "slide_type": "subslide"
    }
   },
   "source": [
    "## Esempi di Chiamata a Funzione\n",
    "\n",
    "**Vediamo qualche esempio (commentato)**\n",
    "\n",
    "Chiamata della funzione `ciao`"
   ]
  },
  {
   "cell_type": "code",
   "execution_count": 13,
   "metadata": {},
   "outputs": [
    {
     "name": "stdout",
     "output_type": "stream",
     "text": [
      "ciao mondo\n",
      "None\n"
     ]
    }
   ],
   "source": [
    "def ciao():\n",
    "    print('ciao mondo')\n",
    "    return None\n",
    "\n",
    "x = ciao()\n",
    "print(x)"
   ]
  },
  {
   "cell_type": "markdown",
   "metadata": {},
   "source": [
    "Lo stesso succede se viene eseguita l'istruzione `return None`"
   ]
  },
  {
   "cell_type": "markdown",
   "metadata": {
    "slideshow": {
     "slide_type": "subslide"
    }
   },
   "source": [
    "## Esempi di Chiamata a Funzione\n",
    "\n",
    "**Vediamo qualche esempio (commentato)**\n",
    "\n",
    "Chiamata della funzione `ciao`"
   ]
  },
  {
   "cell_type": "code",
   "execution_count": 14,
   "metadata": {},
   "outputs": [
    {
     "name": "stdout",
     "output_type": "stream",
     "text": [
      "ciao mondo\n",
      "None\n"
     ]
    }
   ],
   "source": [
    "def ciao():\n",
    "    print('ciao mondo')\n",
    "    return\n",
    "\n",
    "x = ciao()\n",
    "print(x)"
   ]
  },
  {
   "cell_type": "markdown",
   "metadata": {},
   "source": [
    "...O se viene eseguita l'istruzione `return` (senza argomenti)"
   ]
  },
  {
   "cell_type": "markdown",
   "metadata": {
    "slideshow": {
     "slide_type": "subslide"
    }
   },
   "source": [
    "## Record di Attivazione\n",
    "\n",
    "**L'area di memoria allocata alla chiamata si chiama `record di attivazione`**\n",
    "\n",
    "Il record di attivazione:\n",
    "\n",
    "* È associato ad ogni _chiamata_\n",
    "* Ospita tutte le _variabili definite dalla chiamata a funzione_\n",
    "* ...Inclusi i _parametri formali_\n",
    "* Viene deallocato al termine dell'esecuzione\n",
    "\n",
    "**Questo comportamento ha alcune conseguenze importanti**"
   ]
  },
  {
   "cell_type": "markdown",
   "metadata": {
    "slideshow": {
     "slide_type": "subslide"
    }
   },
   "source": [
    "## Variabili Locali\n",
    "\n",
    "**Innanzitutto le variabili in una funzione sono _locali_**\n",
    "\n",
    "...Ossia possono essere utilizzate solo dalla chiamata corrente:"
   ]
  },
  {
   "cell_type": "code",
   "execution_count": 15,
   "metadata": {},
   "outputs": [
    {
     "ename": "NameError",
     "evalue": "name 'a' is not defined",
     "output_type": "error",
     "traceback": [
      "\u001b[31m---------------------------------------------------------------------------\u001b[39m",
      "\u001b[31mNameError\u001b[39m                                 Traceback (most recent call last)",
      "\u001b[36mCell\u001b[39m\u001b[36m \u001b[39m\u001b[32mIn[15]\u001b[39m\u001b[32m, line 5\u001b[39m\n\u001b[32m      2\u001b[39m     \u001b[38;5;28;01mreturn\u001b[39;00m a**b\n\u001b[32m      4\u001b[39m potenza(\u001b[32m2\u001b[39m, \u001b[32m4\u001b[39m)\n\u001b[32m----> \u001b[39m\u001b[32m5\u001b[39m \u001b[38;5;28mprint\u001b[39m(\u001b[43ma\u001b[49m, b)\n",
      "\u001b[31mNameError\u001b[39m: name 'a' is not defined"
     ]
    }
   ],
   "source": [
    "def potenza(a, b):\n",
    "    return a**b\n",
    "\n",
    "potenza(2, 4)\n",
    "print(a, b)"
   ]
  },
  {
   "cell_type": "markdown",
   "metadata": {},
   "source": [
    "* `a` e `b` vengono allocate _solo all'inizio della chiamata_\n",
    "* ...E cessano di esistere al suo termine"
   ]
  },
  {
   "cell_type": "markdown",
   "metadata": {
    "slideshow": {
     "slide_type": "subslide"
    }
   },
   "source": [
    "## Variabili Locali\n",
    "\n",
    "**Ogni record di attivazione è associato ad una _chiamata_ a funzione**\n",
    "\n",
    "...Quindi anche le variabili sono _locali alla chiamata_"
   ]
  },
  {
   "cell_type": "code",
   "execution_count": 16,
   "metadata": {
    "slideshow": {
     "slide_type": "-"
    }
   },
   "outputs": [
    {
     "name": "stdout",
     "output_type": "stream",
     "text": [
      "a: 2, b: 4\n",
      "ris. prima chiamata: 16\n",
      "a: 3, b: 3\n",
      "ris. prima chiamata: 27\n"
     ]
    }
   ],
   "source": [
    "def potenza(a, b):\n",
    "    print(f'a: {a}, b: {b}')\n",
    "    return a**b\n",
    "\n",
    "print('ris. prima chiamata:', potenza(2, 4))\n",
    "print('ris. prima chiamata:', potenza(3, 3))"
   ]
  },
  {
   "cell_type": "markdown",
   "metadata": {},
   "source": [
    "* Nella prima chiamata abbiamo `a = 2` e `b = 4`\n",
    "* Nella seconda chiamata abbiamo `a = 3` e `b = 3`"
   ]
  },
  {
   "cell_type": "markdown",
   "metadata": {
    "slideshow": {
     "slide_type": "subslide"
    }
   },
   "source": [
    "## Variabili Locali vs Globali\n",
    "\n",
    "**Per contro da una funzione si può accedere ad una variabile globale**"
   ]
  },
  {
   "cell_type": "code",
   "execution_count": 17,
   "metadata": {},
   "outputs": [
    {
     "data": {
      "text/plain": [
       "81"
      ]
     },
     "execution_count": 17,
     "metadata": {},
     "output_type": "execute_result"
    }
   ],
   "source": [
    "y = 3\n",
    "\n",
    "def potenza_y(b):\n",
    "    return y**b\n",
    "\n",
    "potenza_y(4)"
   ]
  },
  {
   "cell_type": "markdown",
   "metadata": {},
   "source": [
    "La variabile `y` è accessibile dall'interno della chiamata\n",
    "\n",
    "* ...Perché `y` è definita nell'ambiente globale\n",
    "* ...E quindi è _la sua esistenza è garantita_\n",
    "* ...Al momento dell'esecuzione di `potenza_y`"
   ]
  },
  {
   "cell_type": "markdown",
   "metadata": {
    "slideshow": {
     "slide_type": "subslide"
    }
   },
   "source": [
    "## Ambienti e Visibilità\n",
    "\n",
    "**In generale, se una funzione è definita in un certo \"contesto\"**\n",
    "\n",
    "* ...Ogni altra variabile o funzione definita nello stesso contesto\n",
    "* ...È _garantito che esista_ al momento della chiamata\n",
    "\n",
    "Lo stesso ragionamento si applica ad ogni identificatore (e.g. funzioni o variabili)\n",
    "\n",
    "**Questi contesti si chiamano _ambienti_**\n",
    "\n",
    "In Python un ambiente è creato da determinate istruzioni:\n",
    "\n",
    "* L'esecuzione dell'interprete Python è associata ad un ambiente globale\n",
    "* Ogni definizione di funzione introduce un nuovo ambiente\n",
    "\n",
    "**La regola generale è che:**\n",
    "\n",
    "* Un identificatore definito in un determinato ambiente\n",
    "* È accessibile _nell'ambiente stesso ed in ogni ambiente \"interno\"_"
   ]
  },
  {
   "cell_type": "markdown",
   "metadata": {
    "slideshow": {
     "slide_type": "subslide"
    }
   },
   "source": [
    "## Ambienti e Visibilità\n",
    "\n",
    "**Torniamo all'esempio precedente**"
   ]
  },
  {
   "cell_type": "code",
   "execution_count": 18,
   "metadata": {},
   "outputs": [],
   "source": [
    "y = 3\n",
    "\n",
    "def potenza_y(b):\n",
    "    return y**b"
   ]
  },
  {
   "cell_type": "markdown",
   "metadata": {},
   "source": [
    "* `y` è nell'ambiente globale\n",
    "* `potenza_y` introduce un nuovo ambiente, all'interno di quello globale\n",
    "* ...Quindi `y` è accessibile da `potenza_y`"
   ]
  },
  {
   "cell_type": "markdown",
   "metadata": {
    "slideshow": {
     "slide_type": "subslide"
    }
   },
   "source": [
    "## Ambienti e Visibilità\n",
    "\n",
    "**Un esempio con due funzioni**"
   ]
  },
  {
   "cell_type": "code",
   "execution_count": 19,
   "metadata": {},
   "outputs": [
    {
     "name": "stdout",
     "output_type": "stream",
     "text": [
      "7.3890461584\n",
      "2.71828\n"
     ]
    }
   ],
   "source": [
    "def get_e():\n",
    "    return 2.71828\n",
    "\n",
    "def esponenziale(x):\n",
    "    return get_e()**x\n",
    "\n",
    "print(esponenziale(2))\n",
    "print(get_e())"
   ]
  },
  {
   "cell_type": "markdown",
   "metadata": {},
   "source": [
    "* `get_e` è nell'ambiente globale\n",
    "* l'ambiente di `esponenziale` è interno a quello globale\n",
    "* ...Quindi `get_e` è accessibile da `esponenziale`"
   ]
  },
  {
   "cell_type": "markdown",
   "metadata": {
    "slideshow": {
     "slide_type": "subslide"
    }
   },
   "source": [
    "## Ambienti e Visibilità\n",
    "\n",
    "**Un esempio estremo**"
   ]
  },
  {
   "cell_type": "code",
   "execution_count": 20,
   "metadata": {},
   "outputs": [
    {
     "name": "stdout",
     "output_type": "stream",
     "text": [
      "7.3890461584\n"
     ]
    }
   ],
   "source": [
    "def esponenziale(x):\n",
    "    def get_e():\n",
    "        return 2.71828\n",
    "    return get_e()**x\n",
    "\n",
    "print(esponenziale(2))"
   ]
  },
  {
   "cell_type": "markdown",
   "metadata": {},
   "source": [
    "* `get_e` è definita nell'ambiente di `esponenziale`\n",
    "  - Sì, si può definire una funzione dentro un'altra funzione!\n",
    "* ...Quindi `get_e` è accessibile da `esponenziale`"
   ]
  },
  {
   "cell_type": "markdown",
   "metadata": {
    "slideshow": {
     "slide_type": "subslide"
    }
   },
   "source": [
    "## Risoluzione dei Nomi\n",
    "\n",
    "**Ci possono essere due identificatori (variabili/funzioni) uguali**\n",
    "\n",
    "...Ma solo se sono definite _in ambienti diversi_"
   ]
  },
  {
   "cell_type": "code",
   "execution_count": 21,
   "metadata": {},
   "outputs": [
    {
     "data": {
      "text/plain": [
       "16"
      ]
     },
     "execution_count": 21,
     "metadata": {},
     "output_type": "execute_result"
    }
   ],
   "source": [
    "y = 3 # variabile y, nell'ambiente globale\n",
    "\n",
    "def potenza(y, x): # variabile y, nell'ambiente di \"potenza\"\n",
    "    return y**x\n",
    "\n",
    "potenza(4, 2)"
   ]
  },
  {
   "cell_type": "markdown",
   "metadata": {},
   "source": [
    "* Ci sono _due variabili `y`_, ma in ambienti diversi\n",
    "  - Una variabile è _globale_\n",
    "  - L'altra è _locale_ alla funzione `potenza`\n",
    "* Se fossero nello stesso ambiente, otterremmo un errore"
   ]
  },
  {
   "cell_type": "markdown",
   "metadata": {
    "slideshow": {
     "slide_type": "subslide"
    }
   },
   "source": [
    "## Risoluzione dei Nomi\n",
    "\n",
    "**Ci possono essere due identificatori (variabili/funzioni) uguali**\n",
    "\n",
    "...Ma solo se sono definite _in ambienti diversi_"
   ]
  },
  {
   "cell_type": "code",
   "execution_count": 22,
   "metadata": {},
   "outputs": [
    {
     "data": {
      "text/plain": [
       "16"
      ]
     },
     "execution_count": 22,
     "metadata": {},
     "output_type": "execute_result"
    }
   ],
   "source": [
    "y = 3 # variabile y, nell'ambiente globale\n",
    "\n",
    "def potenza(y, x): # variabile y, nell'ambiente di \"potenza\"\n",
    "    return y**x\n",
    "\n",
    "potenza(4, 2)"
   ]
  },
  {
   "cell_type": "markdown",
   "metadata": {},
   "source": [
    "La variabile `y` globale è visibile in entrambi gli ambienti\n",
    "\n",
    "* Se si utilizza il simbolo `y` nella funzione `potenza`\n",
    "* ...Non è chiaro se questo si riferisca ad `y` locale o globale\n",
    "\n",
    "**In questo caso l'ambiguità è risolta dalla regola di _risoluzione dei nomi_**"
   ]
  },
  {
   "cell_type": "markdown",
   "metadata": {
    "slideshow": {
     "slide_type": "subslide"
    }
   },
   "source": [
    "## Risoluzione dei Nomi\n",
    "\n",
    "**Ci possono essere due identificatori (variabili/funzioni) uguali**\n",
    "\n",
    "...Ma solo se sono definite _in ambienti diversi_"
   ]
  },
  {
   "cell_type": "code",
   "execution_count": 23,
   "metadata": {},
   "outputs": [
    {
     "data": {
      "text/plain": [
       "16"
      ]
     },
     "execution_count": 23,
     "metadata": {},
     "output_type": "execute_result"
    }
   ],
   "source": [
    "y = 3 # variabile y, nell'ambiente globale\n",
    "\n",
    "def potenza(y, x): # variabile y, nell'ambiente di \"potenza\"\n",
    "    return y**x\n",
    "\n",
    "\n",
    "potenza(4, 2)"
   ]
  },
  {
   "cell_type": "markdown",
   "metadata": {},
   "source": [
    "**Gli identificatori vengono individuati _a partire dall'ambiente più interno_**\n",
    "\n",
    "* In queso caso, l'interprete cerca `y` nell'ambiente locale, poi in quello globale\n",
    "* Conseguenza: la `y` locale \"oscura\" quella globale\n",
    "* Per questa ragione il risultato è 16 e non 9"
   ]
  },
  {
   "cell_type": "markdown",
   "metadata": {
    "slideshow": {
     "slide_type": "slide"
    }
   },
   "source": [
    "# Qualche Extra"
   ]
  },
  {
   "cell_type": "markdown",
   "metadata": {
    "slideshow": {
     "slide_type": "subslide"
    }
   },
   "source": [
    "## Valori di Default\n",
    "\n",
    "**È possibile specificare _valori di default_ per determinati parametri**\n",
    "\n",
    "Vediamo un esempio:"
   ]
  },
  {
   "cell_type": "code",
   "execution_count": 24,
   "metadata": {},
   "outputs": [],
   "source": [
    "def root(x, y=0.5):\n",
    "    return x**y"
   ]
  },
  {
   "cell_type": "markdown",
   "metadata": {},
   "source": [
    "* Anziché usare solo un nome di variabile per il parametro\n",
    "* Si aggiunge il segno `=` ed un valore\n",
    "\n",
    "**Così facendo il valore del parametro può essere omesso nella chiamata**"
   ]
  },
  {
   "cell_type": "code",
   "execution_count": 25,
   "metadata": {},
   "outputs": [
    {
     "data": {
      "text/plain": [
       "2.0"
      ]
     },
     "execution_count": 25,
     "metadata": {},
     "output_type": "execute_result"
    }
   ],
   "source": [
    "root(4)"
   ]
  },
  {
   "cell_type": "markdown",
   "metadata": {},
   "source": [
    "* Al parametro `y` viene assegnato il valore di default"
   ]
  },
  {
   "cell_type": "markdown",
   "metadata": {
    "slideshow": {
     "slide_type": "subslide"
    }
   },
   "source": [
    "## Argomenti con Nome\n",
    "\n",
    "**È possibile assegnare gli argomenti _fuori ordine_**\n",
    "\n",
    "...Se ne specifichiamo esplicitamente il nome nella chiamata:"
   ]
  },
  {
   "cell_type": "code",
   "execution_count": 26,
   "metadata": {
    "slideshow": {
     "slide_type": "-"
    }
   },
   "outputs": [
    {
     "name": "stdout",
     "output_type": "stream",
     "text": [
      "a: 4, b: 2\n"
     ]
    },
    {
     "data": {
      "text/plain": [
       "16"
      ]
     },
     "execution_count": 26,
     "metadata": {},
     "output_type": "execute_result"
    }
   ],
   "source": [
    "def potenza(a, b):\n",
    "    print(f'a: {a}, b: {b}')\n",
    "    return a**b\n",
    "\n",
    "potenza(b=2, a=4)"
   ]
  },
  {
   "cell_type": "markdown",
   "metadata": {},
   "source": [
    "* Si usa la sintassi `<parametro>=<espressione>` nella chiamata\n",
    "* In questo modo specifichiamo manualmente come assegnare i valori\n",
    "\n",
    "È una notazione verbose, ma può migliorare di molto la leggibilità"
   ]
  },
  {
   "cell_type": "markdown",
   "metadata": {
    "slideshow": {
     "slide_type": "subslide"
    }
   },
   "source": [
    "## Argomenti con Nome\n",
    "\n",
    "**Se si usa sia il passaggio per posizione che con nome**\n",
    "\n",
    "...I parametri con nome devono _seguire_ quelli posizionali"
   ]
  },
  {
   "cell_type": "code",
   "execution_count": 27,
   "metadata": {},
   "outputs": [
    {
     "name": "stdout",
     "output_type": "stream",
     "text": [
      "a: 4, b: 2\n"
     ]
    },
    {
     "data": {
      "text/plain": [
       "16"
      ]
     },
     "execution_count": 27,
     "metadata": {},
     "output_type": "execute_result"
    }
   ],
   "source": [
    "def potenza(a, b):\n",
    "    print(f'a: {a}, b: {b}')\n",
    "    return a**b\n",
    "\n",
    "potenza(4, b=2)"
   ]
  },
  {
   "cell_type": "markdown",
   "metadata": {},
   "source": [
    "...Altrimenti non ci sono abbastanza informazioni per effettuare gli assegnamenti"
   ]
  },
  {
   "cell_type": "code",
   "execution_count": 28,
   "metadata": {},
   "outputs": [
    {
     "ename": "SyntaxError",
     "evalue": "positional argument follows keyword argument (958093043.py, line 1)",
     "output_type": "error",
     "traceback": [
      "  \u001b[36mCell\u001b[39m\u001b[36m \u001b[39m\u001b[32mIn[28]\u001b[39m\u001b[32m, line 1\u001b[39m\n\u001b[31m    \u001b[39m\u001b[31mpotenza(a=4, 2)\u001b[39m\n                  ^\n\u001b[31mSyntaxError\u001b[39m\u001b[31m:\u001b[39m positional argument follows keyword argument\n"
     ]
    }
   ],
   "source": [
    "potenza(a=4, 2)"
   ]
  },
  {
   "cell_type": "markdown",
   "metadata": {
    "slideshow": {
     "slide_type": "subslide"
    }
   },
   "source": [
    "## Restituzione di Valori Multipli\n",
    "\n",
    "**È possibile restituire \"più di un valore\"**\n",
    "\n",
    "Non si tratta in realtà di una nuova caratteristica di Python:\n",
    "\n",
    "* Semplicemente, basta restituire una collezione\n",
    "* ...E quindi usare tuple unpacking per recuperarne gli elementi ad uno ad uno\n",
    "\n",
    "Vediamo un esempio:"
   ]
  },
  {
   "cell_type": "code",
   "execution_count": 29,
   "metadata": {},
   "outputs": [
    {
     "name": "stdout",
     "output_type": "stream",
     "text": [
      "quoziente: 3, resto: 1\n"
     ]
    }
   ],
   "source": [
    "def divisione_con_resto(a, b):\n",
    "    return a // b, a % b\n",
    "\n",
    "q, r = divisione_con_resto(10, 3)\n",
    "print(f'quoziente: {q}, resto: {r}')"
   ]
  },
  {
   "cell_type": "markdown",
   "metadata": {},
   "source": [
    "* L'argomento di `return` è una tupla (senza parentesi)\n",
    "* La tupla restituita viene immediatamente \"spacchettata\" dal chiamante"
   ]
  },
  {
   "cell_type": "markdown",
   "metadata": {
    "slideshow": {
     "slide_type": "subslide"
    }
   },
   "source": [
    "## Motivazioni per l'Uso delle Funzioni\n",
    "\n",
    "**La definizione di funzioni è un meccanismo molto potente**\n",
    "\n",
    "...Perché permette di _nascondere la complessità_ di un algoritmo\n",
    "\n",
    "* Per esempio, se introduciamo una funzione:"
   ]
  },
  {
   "cell_type": "code",
   "execution_count": 30,
   "metadata": {},
   "outputs": [],
   "source": [
    "def fattoriale(n):\n",
    "    res = 1\n",
    "    for i in range(1, n+1):\n",
    "        res *= i\n",
    "    return res"
   ]
  },
  {
   "cell_type": "markdown",
   "metadata": {},
   "source": [
    "* ...Possiamo calcolare un fattoriale semplicemente chiamando la funzione"
   ]
  },
  {
   "cell_type": "code",
   "execution_count": 31,
   "metadata": {},
   "outputs": [
    {
     "name": "stdout",
     "output_type": "stream",
     "text": [
      "24\n",
      "263130836933693530167218012160000000\n"
     ]
    }
   ],
   "source": [
    "print(fattoriale(4))\n",
    "print(fattoriale(32))"
   ]
  },
  {
   "cell_type": "markdown",
   "metadata": {
    "slideshow": {
     "slide_type": "subslide"
    }
   },
   "source": [
    "## Motivazioni per l'Uso delle Funzioni\n",
    "\n",
    "Questo offre alcuni grossi vantaggi:\n",
    "\n",
    "**Il codice diventa più facile da usare**\n",
    "\n",
    "* Per usare l'algoritmo, _non serve sapere come funziona_\n",
    "* ...Basta sapere come eseguirlo!\n",
    "\n",
    "**Il codice diventa più facile da mantenere**\n",
    "\n",
    "* Non è più necessario copiare/incollare codice (con il rischio di errori)\n",
    "* Una modifica fatta alla funzione, ha effetto su tutti i punti in cui è chiamata\n",
    "\n",
    "Inoltre se _evitiamo di usare variabili globali_ in una funzione\n",
    "\n",
    "* ...La funzione comunica con l'esterno solo con il passaggio di parametri\n",
    "* ...Ed evitiamo di usare inavvertitamente variabili introdotte in altre celle"
   ]
  }
 ],
 "metadata": {
  "celltoolbar": "Slideshow",
  "kernelspec": {
   "display_name": "Python 3 (ipykernel)",
   "language": "python",
   "name": "python3"
  },
  "language_info": {
   "codemirror_mode": {
    "name": "ipython",
    "version": 3
   },
   "file_extension": ".py",
   "mimetype": "text/x-python",
   "name": "python",
   "nbconvert_exporter": "python",
   "pygments_lexer": "ipython3",
   "version": "3.11.11"
  },
  "rise": {
   "center": false,
   "enable_chalkboard": true,
   "transition": "fade"
  }
 },
 "nbformat": 4,
 "nbformat_minor": 4
}

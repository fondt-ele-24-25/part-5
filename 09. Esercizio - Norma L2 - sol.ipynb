{
 "cells": [
  {
   "cell_type": "markdown",
   "metadata": {
    "slideshow": {
     "slide_type": "subslide"
    }
   },
   "source": [
    "## Esercizio: Norma L2\n",
    "\n",
    "**Si definisca una funzione:**\n",
    "\n",
    "```python\n",
    "def norm_l2(v)\n",
    "```\n",
    "\n",
    "Che calcoli la norma Euclidea (L2) della lista `v`:\n",
    "\n",
    "$$\n",
    "\\sqrt{\\sum_{i=0}^{n-1} v_i^2}\n",
    "$$\n",
    "\n",
    "* Si effettuino esperimenti per diverse liste di ingresso\n",
    "* Il codice deve essere contenuto in un'unica cella"
   ]
  },
  {
   "cell_type": "markdown",
   "metadata": {
    "slideshow": {
     "slide_type": "subslide"
    }
   },
   "source": [
    "## Esercizio: Norma L2\n",
    "\n",
    "**Di seguito una possibile soluzione**"
   ]
  },
  {
   "cell_type": "code",
   "execution_count": 1,
   "metadata": {},
   "outputs": [
    {
     "name": "stdout",
     "output_type": "stream",
     "text": [
      "norma di [1, 2, 3]: 3.7416573867739413\n",
      "norma di [3, 2, 1]: 3.7416573867739413\n"
     ]
    }
   ],
   "source": [
    "def norm_l2(v):\n",
    "    return sum(e**2 for e in v)**0.5\n",
    "\n",
    "v1 = [1, 2, 3]\n",
    "print(f'norma di {v1}: {norm_l2(v1)}')\n",
    "v2 = [3, 2, 1]\n",
    "print(f'norma di {v2}: {norm_l2(v2)}')"
   ]
  }
 ],
 "metadata": {
  "celltoolbar": "Slideshow",
  "kernelspec": {
   "display_name": "Python 3 (ipykernel)",
   "language": "python",
   "name": "python3"
  },
  "language_info": {
   "codemirror_mode": {
    "name": "ipython",
    "version": 3
   },
   "file_extension": ".py",
   "mimetype": "text/x-python",
   "name": "python",
   "nbconvert_exporter": "python",
   "pygments_lexer": "ipython3",
   "version": "3.11.11"
  },
  "rise": {
   "center": false,
   "enable_chalkboard": true,
   "transition": "fade"
  }
 },
 "nbformat": 4,
 "nbformat_minor": 4
}

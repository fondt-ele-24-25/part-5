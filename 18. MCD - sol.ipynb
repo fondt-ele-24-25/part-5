{
 "cells": [
  {
   "cell_type": "markdown",
   "id": "295c7318-5bd2-4d3c-a335-d7eeb4dd7aec",
   "metadata": {},
   "source": [
    "## Massimo Comune Divisore\n",
    "\n",
    "**Si definisca una funzione:**\n",
    "\n",
    "```python\n",
    "def Euclidean_MCD(x, y)\n",
    "```\n",
    "\n",
    "...che calcoli il Maggior Comun Divisore tra x e y usando l'algoritmo di Euclide:\n",
    "\n",
    "0) Siano **_x_** e **_y_** due interi, tali che **_x_** > **_y_** ;\n",
    "1) Calcolo **_x_** diviso **_y_**, con risultato **_q_** e resto **_r_**;\n",
    "2) Se **_r_** = 0, allora **_y_** è il Maggior Comun Divisore ;\n",
    "3) Altrimenti, pongo **_x_** = **_y_** e **_y_** = **_r_** ;\n",
    "4) Riparto dal punto 1.\n",
    "\n",
    "_Indizio: un ciclo While sembra ideale, ma come impostarlo? Con quale condizione di terminazione?_"
   ]
  },
  {
   "cell_type": "code",
   "execution_count": 1,
   "id": "5e911be8-bb12-4a87-bc7b-cc74f2162305",
   "metadata": {},
   "outputs": [
    {
     "name": "stdout",
     "output_type": "stream",
     "text": [
      "L'MCD di 51 e 34 è 17\n"
     ]
    }
   ],
   "source": [
    "def Euclidean_MCD(x, y):\n",
    "    # Impostiamo un ciclo while, ma con quale condizione? Quando volgiamo fermarci?\n",
    "    # Il resto è ciò che guardiamo per capire se siamo arrivati all'MCD, quindi lo inizializzo e faccio un controllo su quello:\n",
    "    r = x % y\n",
    "    # (Il resto della divisione lo trovo con l'operatore modulo!)\n",
    "    while(r > 0):\n",
    "        # Se siamo entrati nel corpo del while, significa che il resto non è 0: proseguiamo quindi con l'algoritmo\n",
    "        x = y\n",
    "        y = r\n",
    "        # Ripartiamo dal punto 1: calcoliamo il resto\n",
    "        r = x % y\n",
    "        #... e adesso terminiamo il corpo del while: se r è 0 il while terminerà, altrimenti farà un'altra iterazione\n",
    "    return y # Se il while è terminato, quindi r è 0, dentro y c'è il Maggior Comun Divisore\n",
    "\n",
    "print(f\"L'MCD di 51 e 34 è {Euclidean_MCD(51, 34)}\")\n",
    "        "
   ]
  }
 ],
 "metadata": {
  "kernelspec": {
   "display_name": "Python 3 (ipykernel)",
   "language": "python",
   "name": "python3"
  },
  "language_info": {
   "codemirror_mode": {
    "name": "ipython",
    "version": 3
   },
   "file_extension": ".py",
   "mimetype": "text/x-python",
   "name": "python",
   "nbconvert_exporter": "python",
   "pygments_lexer": "ipython3",
   "version": "3.11.11"
  }
 },
 "nbformat": 4,
 "nbformat_minor": 5
}

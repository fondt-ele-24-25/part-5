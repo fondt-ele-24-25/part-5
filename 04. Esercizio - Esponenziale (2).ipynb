{
 "cells": [
  {
   "cell_type": "markdown",
   "metadata": {
    "slideshow": {
     "slide_type": "subslide"
    }
   },
   "source": [
    "## Esercizio: Esponenziale (2)\n",
    "\n",
    "**Si definisca una funzione**\n",
    "\n",
    "```python\n",
    "def exponential(x, m, eps)\n",
    "```\n",
    "\n",
    "La funzione deve approssimare il valore $e^x$ usando il suo sviluppo in serie di Taylor:\n",
    "\n",
    "$$\n",
    "e^x \\simeq \\sum_{n = 0}^\\infty \\frac{x^n}{n!}\n",
    "$$\n",
    "\n",
    "* Si tronchi la serie quando $x^n / n! < \\varepsilon$, o dopo $m$ iterazioni\n",
    "* Si stampi su terminale anche il numero di iterazioni effettuate\n",
    "* Il codice deve essere contenuto in un'unica cella\n",
    "* Per facilitare la verifica, si tenga presente che:\n",
    "\n",
    "$$\n",
    "e^2 \\simeq 7.389 \\quad e^3 \\simeq 20.086 \\quad e^4 \\simeq 54.598\n",
    "$$"
   ]
  },
  {
   "cell_type": "markdown",
   "metadata": {
    "slideshow": {
     "slide_type": "subslide"
    }
   },
   "source": [
    "## Esercizio: Esponenziale (2)\n",
    "\n",
    "**Si scriva la soluzione nella cella seguente**"
   ]
  },
  {
   "cell_type": "code",
   "execution_count": 1,
   "metadata": {},
   "outputs": [],
   "source": [
    "x = 2 # ingresso\n",
    "m, eps = 1000, 1e-6"
   ]
  }
 ],
 "metadata": {
  "celltoolbar": "Slideshow",
  "kernelspec": {
   "display_name": "Python 3 (ipykernel)",
   "language": "python",
   "name": "python3"
  },
  "language_info": {
   "codemirror_mode": {
    "name": "ipython",
    "version": 3
   },
   "file_extension": ".py",
   "mimetype": "text/x-python",
   "name": "python",
   "nbconvert_exporter": "python",
   "pygments_lexer": "ipython3",
   "version": "3.11.11"
  },
  "rise": {
   "center": false,
   "enable_chalkboard": true,
   "transition": "fade"
  }
 },
 "nbformat": 4,
 "nbformat_minor": 4
}

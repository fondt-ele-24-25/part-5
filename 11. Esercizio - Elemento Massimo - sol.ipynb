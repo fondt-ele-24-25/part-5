{
 "cells": [
  {
   "cell_type": "markdown",
   "metadata": {
    "slideshow": {
     "slide_type": "subslide"
    }
   },
   "source": [
    "## Esercizio: Elemento Massimo\n",
    "\n",
    "**Si definisca una funzione:**\n",
    "\n",
    "```python\n",
    "def max_el(l)\n",
    "```\n",
    "\n",
    "Che individui l'elemento più grande nella collezione di ingresso `l` secondo la seguente procedura:\n",
    "\n",
    "```\n",
    "nessun candidato massimo è disponibile all'inizio\n",
    "per ogni elemento \"e\" della lista:\n",
    "    se non c'è un candidato massimo o \"e\" è maggiore del candidato:\n",
    "        il candidato massimo è ora \"e\"\n",
    "```\n",
    "\n",
    "* Si effettuino esperimenti per diverse collezioni\n",
    "  - Si varia sia il contenuto della collezione che il tipo (e.g. lista, insieme, etc.)\n",
    "* Il codice deve essere contenuto in un'unica cella\n",
    "* Si verifichi il risultato confrontandolo con quello della funzione nativa `max`"
   ]
  },
  {
   "cell_type": "markdown",
   "metadata": {
    "slideshow": {
     "slide_type": "subslide"
    }
   },
   "source": [
    "## Esercizio: Elemento Massimo\n",
    "\n",
    "**Di seguito una possibile soluzione**"
   ]
  },
  {
   "cell_type": "code",
   "execution_count": 1,
   "metadata": {},
   "outputs": [
    {
     "name": "stdout",
     "output_type": "stream",
     "text": [
      "max in [1, 5, -2, 6, 10, 7, 4]: 10\n",
      "max in {1, 4, 5, 11, -2}: 11\n",
      "max in (-2, 9, 4): 9\n"
     ]
    }
   ],
   "source": [
    "def max_el(l):\n",
    "    res = None\n",
    "    for v in l:\n",
    "        if res is None or v > res:\n",
    "            res = v\n",
    "    return res\n",
    "\n",
    "c1 = [1, 5, -2, 6, 10, 7, 4]\n",
    "print(f'max in {c1}: {max(c1)}')\n",
    "c2 = {1, 5, -2, 11, 4}\n",
    "print(f'max in {c2}: {max(c2)}')\n",
    "c3 = tuple([-2, 9, 4])\n",
    "print(f'max in {c3}: {max(c3)}')"
   ]
  }
 ],
 "metadata": {
  "celltoolbar": "Slideshow",
  "kernelspec": {
   "display_name": "Python 3 (ipykernel)",
   "language": "python",
   "name": "python3"
  },
  "language_info": {
   "codemirror_mode": {
    "name": "ipython",
    "version": 3
   },
   "file_extension": ".py",
   "mimetype": "text/x-python",
   "name": "python",
   "nbconvert_exporter": "python",
   "pygments_lexer": "ipython3",
   "version": "3.11.11"
  },
  "rise": {
   "center": false,
   "enable_chalkboard": true,
   "transition": "fade"
  }
 },
 "nbformat": 4,
 "nbformat_minor": 4
}

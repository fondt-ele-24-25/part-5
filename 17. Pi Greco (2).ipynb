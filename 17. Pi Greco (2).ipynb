{
 "cells": [
  {
   "cell_type": "markdown",
   "id": "3ca81601-9e52-4a52-85db-fd8fd4c23a2a",
   "metadata": {},
   "source": [
    "## Approssimazione di Pi-Greco (2)\n",
    "\n",
    "**si definisca una funzione:**\n",
    "\n",
    "```python\n",
    "def Wallis(n)\n",
    "```\n",
    "\n",
    "che approssima Pi Greco con il prodotto di Wallis:\n",
    "\n",
    "$$\n",
    "\\pi \\simeq 2 * \\prod_{k = 1}^n \\frac{4k^2}{4k^2 - 1}\n",
    "$$\n",
    "\n",
    "Cosa succede al variare di _n_? Quale dei due metodi è più preciso nell'approssimare $\\pi$?\n",
    "\n",
    "_Indizio: provare valori anche molto alti di n!_"
   ]
  },
  {
   "cell_type": "code",
   "execution_count": null,
   "id": "de0b64f5-57ec-4357-83b1-b2bfa5aa4a80",
   "metadata": {},
   "outputs": [],
   "source": []
  }
 ],
 "metadata": {
  "kernelspec": {
   "display_name": "Python 3 (ipykernel)",
   "language": "python",
   "name": "python3"
  },
  "language_info": {
   "codemirror_mode": {
    "name": "ipython",
    "version": 3
   },
   "file_extension": ".py",
   "mimetype": "text/x-python",
   "name": "python",
   "nbconvert_exporter": "python",
   "pygments_lexer": "ipython3",
   "version": "3.11.11"
  }
 },
 "nbformat": 4,
 "nbformat_minor": 5
}

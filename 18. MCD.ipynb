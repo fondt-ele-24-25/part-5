{
 "cells": [
  {
   "cell_type": "markdown",
   "id": "295c7318-5bd2-4d3c-a335-d7eeb4dd7aec",
   "metadata": {},
   "source": [
    "## Massimo Comune Divisore\n",
    "\n",
    "**Si definisca una funzione:**\n",
    "\n",
    "```python\n",
    "def Euclidean_MCD(x, y)\n",
    "```\n",
    "\n",
    "...che calcoli il Maggior Comun Divisore tra x e y usando l'algoritmo di Euclide:\n",
    "\n",
    "0) Siano **_x_** e **_y_** due interi, tali che **_x_** > **_y_** ;\n",
    "1) Calcolo **_x_** diviso **_y_**, con risultato **_q_** e resto **_r_**;\n",
    "2) Se **_r_** = 0, allora **_y_** è il Maggior Comun Divisore ;\n",
    "3) Altrimenti, pongo **_x_** = **_y_** e **_y_** = **_r_** ;\n",
    "4) Riparto dal punto 1.\n",
    "\n",
    "_Indizio: un ciclo While sembra ideale, ma come impostarlo?_"
   ]
  },
  {
   "cell_type": "code",
   "execution_count": null,
   "id": "5e911be8-bb12-4a87-bc7b-cc74f2162305",
   "metadata": {},
   "outputs": [],
   "source": []
  }
 ],
 "metadata": {
  "kernelspec": {
   "display_name": "Python 3 (ipykernel)",
   "language": "python",
   "name": "python3"
  },
  "language_info": {
   "codemirror_mode": {
    "name": "ipython",
    "version": 3
   },
   "file_extension": ".py",
   "mimetype": "text/x-python",
   "name": "python",
   "nbconvert_exporter": "python",
   "pygments_lexer": "ipython3",
   "version": "3.11.11"
  }
 },
 "nbformat": 4,
 "nbformat_minor": 5
}

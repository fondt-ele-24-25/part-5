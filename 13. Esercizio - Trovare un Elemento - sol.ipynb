{
 "cells": [
  {
   "cell_type": "markdown",
   "metadata": {
    "slideshow": {
     "slide_type": "subslide"
    }
   },
   "source": [
    "## Esercizio: Trovare un Elemento\n",
    "\n",
    "**Si definisca una funzione:**\n",
    "\n",
    "```python\n",
    "def find(v, l)\n",
    "```\n",
    "\n",
    "Che cerchi l'elemento `v` all'interno della lista `l`\n",
    "\n",
    "* Se l'elemento viene trovato, la funzione deve restituire il suo indice\n",
    "* Altrimenti, deve restituire `None`\n",
    "\n",
    "Qualche indicazione:\n",
    "\n",
    "* Utilizzando sempre la stessa lista...\n",
    "* ...Si effettuino esperimenti per diversi elementi (presenti ed assenti)\n",
    "* Il codice deve essere contenuto in un'unica cella"
   ]
  },
  {
   "cell_type": "markdown",
   "metadata": {
    "slideshow": {
     "slide_type": "subslide"
    }
   },
   "source": [
    "## Esercizio: Trovare un Elmento\n",
    "\n",
    "**Di seguito una possibile soluzione**"
   ]
  },
  {
   "cell_type": "code",
   "execution_count": 5,
   "metadata": {},
   "outputs": [
    {
     "name": "stdout",
     "output_type": "stream",
     "text": [
      "Indice di 2: 0\n",
      "Indice di 6: 1\n",
      "Indice di 13: 3\n",
      "Indice di 28: None\n"
     ]
    }
   ],
   "source": [
    "def find(v, l):\n",
    "    for i, v2 in enumerate(l):\n",
    "        if v == v2:\n",
    "            # Termino la funzione e restituisco il risultato\n",
    "            return i \n",
    "    # Se sono arrivato qui, vuol dire che l'elemento non è presente\n",
    "    return None\n",
    "\n",
    "l = [2, 6, 9, 13]\n",
    "print(f'Indice di 2: {find(2, l)}')\n",
    "print(f'Indice di 6: {find(6, l)}')\n",
    "print(f'Indice di 13: {find(13, l)}')\n",
    "print(f'Indice di 28: {find(28, l)}')"
   ]
  }
 ],
 "metadata": {
  "celltoolbar": "Slideshow",
  "kernelspec": {
   "display_name": "Python 3 (ipykernel)",
   "language": "python",
   "name": "python3"
  },
  "language_info": {
   "codemirror_mode": {
    "name": "ipython",
    "version": 3
   },
   "file_extension": ".py",
   "mimetype": "text/x-python",
   "name": "python",
   "nbconvert_exporter": "python",
   "pygments_lexer": "ipython3",
   "version": "3.11.11"
  },
  "rise": {
   "center": false,
   "enable_chalkboard": true,
   "transition": "fade"
  }
 },
 "nbformat": 4,
 "nbformat_minor": 4
}

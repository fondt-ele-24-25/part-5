{
 "cells": [
  {
   "cell_type": "markdown",
   "metadata": {
    "slideshow": {
     "slide_type": "subslide"
    }
   },
   "source": [
    "## Esercizio: Somma Elemento per Elemento\n",
    "\n",
    "**Si definisca una funzione:**\n",
    "\n",
    "```python\n",
    "def elementwise_sum(a, b)\n",
    "```\n",
    "\n",
    "Che calcoli la somma `c` elemento per elemento delle due liste `a` e `b`, i.e.:\n",
    "\n",
    "$$\n",
    "    c = \\left[a_0+b_0, a_1+b_1, a_2+b_2, \\ldots \\right]\n",
    "$$\n",
    "\n",
    "* Si effettuino esperimenti per diverse liste di ingresso\n",
    "* Il codice deve essere contenuto in un'unica cella"
   ]
  },
  {
   "cell_type": "code",
   "execution_count": null,
   "metadata": {},
   "outputs": [],
   "source": []
  }
 ],
 "metadata": {
  "celltoolbar": "Slideshow",
  "kernelspec": {
   "display_name": "Python 3 (ipykernel)",
   "language": "python",
   "name": "python3"
  },
  "language_info": {
   "codemirror_mode": {
    "name": "ipython",
    "version": 3
   },
   "file_extension": ".py",
   "mimetype": "text/x-python",
   "name": "python",
   "nbconvert_exporter": "python",
   "pygments_lexer": "ipython3",
   "version": "3.11.11"
  },
  "rise": {
   "center": false,
   "enable_chalkboard": true,
   "transition": "fade"
  }
 },
 "nbformat": 4,
 "nbformat_minor": 4
}

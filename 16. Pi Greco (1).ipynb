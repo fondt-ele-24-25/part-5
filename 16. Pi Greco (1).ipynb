{
 "cells": [
  {
   "cell_type": "markdown",
   "id": "bdc4f8f2-7454-4395-88ff-b44be0281426",
   "metadata": {},
   "source": [
    "## Approssimazione di Pi-Greco (1)\n",
    "\n",
    "**Si definisca una funzione:**\n",
    "\n",
    "```python\n",
    "def Newton(n)\n",
    "```\n",
    "\n",
    "Che approssima Pi Greco con _n_ iterazioni del metodo di Newton, partendo da _p = 8_:\n",
    "\n",
    "$$\n",
    "\\pi \\simeq \\sum_{k = 0}^n \\frac{p + 20}{e^{p} - 1}\n",
    "$$\n",
    "\n",
    "dove _e_ è il Numero di Eulero, uguale a 2.71828.\n",
    "\n",
    "_Indizio: leggere molto bene il testo e le variabili della formula!_\n"
   ]
  },
  {
   "cell_type": "code",
   "execution_count": null,
   "id": "1cebec01-f7e5-42bf-a2cd-49ef0e34a97f",
   "metadata": {},
   "outputs": [],
   "source": []
  }
 ],
 "metadata": {
  "kernelspec": {
   "display_name": "Python 3 (ipykernel)",
   "language": "python",
   "name": "python3"
  },
  "language_info": {
   "codemirror_mode": {
    "name": "ipython",
    "version": 3
   },
   "file_extension": ".py",
   "mimetype": "text/x-python",
   "name": "python",
   "nbconvert_exporter": "python",
   "pygments_lexer": "ipython3",
   "version": "3.11.11"
  }
 },
 "nbformat": 4,
 "nbformat_minor": 5
}

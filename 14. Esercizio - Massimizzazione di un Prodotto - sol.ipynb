{
 "cells": [
  {
   "cell_type": "markdown",
   "metadata": {
    "slideshow": {
     "slide_type": "subslide"
    }
   },
   "source": [
    "## Esercizio: Massimizzazione di un Prodotto\n",
    "\n",
    "**Si definisca una funzione:**\n",
    "\n",
    "```python\n",
    "def maximize_prod(s)\n",
    "```\n",
    "\n",
    "Che, dato in ingresso un numero naturale $s$\n",
    "\n",
    "* Trovi i due numeri naturali $a$ e $b$ tali che $a + b = s$\n",
    "* ...Ed il prodotto $a b$ ha valore massimo\n",
    "\n",
    "Il problema può essere risolto enumerando le possibili combinazioni, secondo il seguente algoritmo:\n",
    "\n",
    "```\n",
    "nessun valore massimo di prodotto disponibile\n",
    "considero valori di \"a\" da 1 fino ad \"s\":\n",
    "    calcolo il valore di \"b\" di conseguenza\n",
    "    calcolo il valore prodotto\n",
    "    se un valore massimo di prodotto non è disponibile o il nuovo valore è maggiore:\n",
    "        aggiorno il valore massimo di prodotto\n",
    "        salvo \"a\" e \"b\"\n",
    "alla fine \"a\" e \"b\" sono noti\n",
    "```\n",
    "\n",
    "**Qualche annotazione**\n",
    "\n",
    "* Il codice deve essere contenuto in una singola cella\n",
    "* Si effettuino esperimenti con diversi valori di $s$: notata qualche regolarità?"
   ]
  },
  {
   "cell_type": "markdown",
   "metadata": {
    "slideshow": {
     "slide_type": "subslide"
    }
   },
   "source": [
    "## Esercizio: Massimizzazione di un Prodotto\n",
    "\n",
    "**Di seguito una possibile soluzione**"
   ]
  },
  {
   "cell_type": "code",
   "execution_count": 1,
   "metadata": {},
   "outputs": [
    {
     "name": "stdout",
     "output_type": "stream",
     "text": [
      "Soluzione con s = 10: (5, 5)\n",
      "Soluzione con s = 20: (10, 10)\n",
      "Soluzione con s = 24: (12, 12)\n"
     ]
    }
   ],
   "source": [
    "def maximize_prod(s):\n",
    "    best_a, best_prod = None, None\n",
    "    for a in range(s+1):\n",
    "        b = s - a # determino b\n",
    "        prod = a * b # calcolo il prodotto\n",
    "        if best_a is None or prod > best_prod:\n",
    "            best_prod = prod\n",
    "            best_a = a\n",
    "    return best_a, s - best_a # restituisco i migliori a e b\n",
    "\n",
    "s1 = 10\n",
    "print(f'Soluzione con s = {s1}: {maximize_prod(s1)}')\n",
    "s2 = 20\n",
    "print(f'Soluzione con s = {s2}: {maximize_prod(s2)}')\n",
    "s3 = 24\n",
    "print(f'Soluzione con s = {s3}: {maximize_prod(s3)}')"
   ]
  },
  {
   "cell_type": "markdown",
   "metadata": {},
   "source": [
    "Il valore massimo è ottenuto quando $a = \\lfloor s / 2 \\rfloor$ (o $a = \\lceil s / 2 \\rceil$)"
   ]
  }
 ],
 "metadata": {
  "celltoolbar": "Slideshow",
  "kernelspec": {
   "display_name": "Python 3 (ipykernel)",
   "language": "python",
   "name": "python3"
  },
  "language_info": {
   "codemirror_mode": {
    "name": "ipython",
    "version": 3
   },
   "file_extension": ".py",
   "mimetype": "text/x-python",
   "name": "python",
   "nbconvert_exporter": "python",
   "pygments_lexer": "ipython3",
   "version": "3.11.11"
  },
  "rise": {
   "center": false,
   "enable_chalkboard": true,
   "transition": "fade"
  }
 },
 "nbformat": 4,
 "nbformat_minor": 4
}

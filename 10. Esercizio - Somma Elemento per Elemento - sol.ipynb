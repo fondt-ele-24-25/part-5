{
 "cells": [
  {
   "cell_type": "markdown",
   "metadata": {
    "slideshow": {
     "slide_type": "subslide"
    }
   },
   "source": [
    "## Esercizio: Somma Elemento per Elemento\n",
    "\n",
    "**Si definisca una funzione:**\n",
    "\n",
    "```python\n",
    "def elementwise_sum(a, b)\n",
    "```\n",
    "\n",
    "Che calcoli la somma `c` elemento per elemento delle due liste `a` e `b`, i.e.:\n",
    "\n",
    "$$\n",
    "c = \\left[a_0+b_0, a_1+b_1, a_2+b_2\\right]\n",
    "$$\n",
    "\n",
    "* Si effettuino esperimenti per diverse liste di ingresso\n",
    "* Il codice deve essere contenuto in un'unica cella"
   ]
  },
  {
   "cell_type": "markdown",
   "metadata": {
    "slideshow": {
     "slide_type": "subslide"
    }
   },
   "source": [
    "## Esercizio: Somma Elemento per Elemento\n",
    "\n",
    "**Di seguito una possibile soluzione**"
   ]
  },
  {
   "cell_type": "code",
   "execution_count": 1,
   "metadata": {},
   "outputs": [
    {
     "name": "stdout",
     "output_type": "stream",
     "text": [
      "La somma di [1, 2, 3] e [-1, -1, -1] è: [0, 1, 2]\n",
      "La somma di [1, 2, 3] e [4, 5, 6] è: [5, 7, 9]\n",
      "La somma di [-1, -1, -1] e [4, 5, 6] è: [3, 4, 5]\n"
     ]
    }
   ],
   "source": [
    "def elementwise_sum(a, b):\n",
    "    return [v1+v2 for v1, v2 in zip(a, b)]\n",
    "\n",
    "l1 = [1, 2, 3]\n",
    "l2 = [-1, -1, -1]\n",
    "l3 = [4, 5, 6]\n",
    "print(f'La somma di {l1} e {l2} è: {elementwise_sum(l1, l2)}')\n",
    "print(f'La somma di {l1} e {l3} è: {elementwise_sum(l1, l3)}')\n",
    "print(f'La somma di {l2} e {l3} è: {elementwise_sum(l2, l3)}')"
   ]
  }
 ],
 "metadata": {
  "celltoolbar": "Slideshow",
  "kernelspec": {
   "display_name": "Python 3 (ipykernel)",
   "language": "python",
   "name": "python3"
  },
  "language_info": {
   "codemirror_mode": {
    "name": "ipython",
    "version": 3
   },
   "file_extension": ".py",
   "mimetype": "text/x-python",
   "name": "python",
   "nbconvert_exporter": "python",
   "pygments_lexer": "ipython3",
   "version": "3.11.11"
  },
  "rise": {
   "center": false,
   "enable_chalkboard": true,
   "transition": "fade"
  }
 },
 "nbformat": 4,
 "nbformat_minor": 4
}

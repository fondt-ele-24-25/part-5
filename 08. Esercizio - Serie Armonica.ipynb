{
 "cells": [
  {
   "cell_type": "markdown",
   "metadata": {
    "slideshow": {
     "slide_type": "subslide"
    }
   },
   "source": [
    "## Esercizio: Serie Armonica\n",
    "\n",
    "**Si definisca una funzione:**\n",
    "\n",
    "```python\n",
    "def harmonic(m)\n",
    "```\n",
    "\n",
    "Che calcoli la serie armonica troncata:\n",
    "\n",
    "$$\n",
    "\\sum_{n=1}^m \\frac{1}{n}\n",
    "$$\n",
    "\n",
    "* Si effettuino esperimenti per $m = \\{1, 10, 10^2, 10^3, 10^4, 10^5\\}$\n",
    "  - Allo scopo, si utilizzi un ciclo\n",
    "* Il codice deve essere contenuto in un'unica cella"
   ]
  },
  {
   "cell_type": "code",
   "execution_count": null,
   "metadata": {},
   "outputs": [],
   "source": []
  }
 ],
 "metadata": {
  "celltoolbar": "Slideshow",
  "kernelspec": {
   "display_name": "Python 3 (ipykernel)",
   "language": "python",
   "name": "python3"
  },
  "language_info": {
   "codemirror_mode": {
    "name": "ipython",
    "version": 3
   },
   "file_extension": ".py",
   "mimetype": "text/x-python",
   "name": "python",
   "nbconvert_exporter": "python",
   "pygments_lexer": "ipython3",
   "version": "3.11.8"
  },
  "rise": {
   "center": false,
   "enable_chalkboard": true,
   "transition": "fade"
  }
 },
 "nbformat": 4,
 "nbformat_minor": 4
}

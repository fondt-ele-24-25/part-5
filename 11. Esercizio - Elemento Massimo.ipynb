{
 "cells": [
  {
   "cell_type": "markdown",
   "metadata": {
    "slideshow": {
     "slide_type": "subslide"
    }
   },
   "source": [
    "## Esercizio: Elemento Massimo\n",
    "\n",
    "**Si definisca una funzione:**\n",
    "\n",
    "```python\n",
    "def max_el(l)\n",
    "```\n",
    "\n",
    "Che individui l'elemento più grande nella collezione di ingresso `l` utilizzando la seguente procedura:\n",
    "\n",
    "```\n",
    "nessun candidato massimo è disponibile all'inizio\n",
    "per ogni elemento \"e\" della lista:\n",
    "    se non c'è un candidato massimo o \"e\" è maggiore del candidato:\n",
    "        il candidato massimo è ora \"e\"\n",
    "```\n",
    "\n",
    "* Si effettuino esperimenti per diverse collezioni\n",
    "  - Si varia sia il contenuto della collezione che il tipo (e.g. lista, insieme, etc.)\n",
    "* Il codice deve essere contenuto in un'unica cella\n",
    "* Si verifichi il risultato confrontandolo con quello della funzione nativa `max`"
   ]
  },
  {
   "cell_type": "code",
   "execution_count": null,
   "metadata": {},
   "outputs": [],
   "source": []
  }
 ],
 "metadata": {
  "celltoolbar": "Slideshow",
  "kernelspec": {
   "display_name": "Python 3 (ipykernel)",
   "language": "python",
   "name": "python3"
  },
  "language_info": {
   "codemirror_mode": {
    "name": "ipython",
    "version": 3
   },
   "file_extension": ".py",
   "mimetype": "text/x-python",
   "name": "python",
   "nbconvert_exporter": "python",
   "pygments_lexer": "ipython3",
   "version": "3.11.11"
  },
  "rise": {
   "center": false,
   "enable_chalkboard": true,
   "transition": "fade"
  }
 },
 "nbformat": 4,
 "nbformat_minor": 4
}

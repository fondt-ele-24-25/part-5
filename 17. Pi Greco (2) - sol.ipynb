{
 "cells": [
  {
   "cell_type": "markdown",
   "id": "4423b6a8-f54f-4cb8-8202-51e9f6338f7e",
   "metadata": {},
   "source": [
    "## Approssimazione di Pi-Greco (2)\n",
    "\n",
    "**si definisca una funzione:**\n",
    "\n",
    "```python\n",
    "def Wallis(n)\n",
    "```\n",
    "\n",
    "che approssima Pi Greco con il prodotto di Wallis:\n",
    "\n",
    "$$\n",
    "\\pi \\simeq 2 * \\prod_{k = 1}^n \\frac{4k^2}{4k^2 - 1}\n",
    "$$\n",
    "\n",
    "Cosa succede al variare di _n_? Quale dei due metodi è più preciso nell'approssimare $\\pi$ (3.1415965...)?\n",
    "\n",
    "_Indizio: provare valori anche molto alti di n!_"
   ]
  },
  {
   "cell_type": "code",
   "execution_count": 1,
   "id": "a41f263e-db9f-40b7-a5c2-b1df26aef998",
   "metadata": {},
   "outputs": [
    {
     "name": "stdout",
     "output_type": "stream",
     "text": [
      "3.141591868192149\n"
     ]
    }
   ],
   "source": [
    "def Wallis(n):\n",
    "    # Creo un accumulatore per il prodotto\n",
    "    res = 1\n",
    "    # Itero da 1 a n come rtichiesto dalla sommatoria\n",
    "    for k in range(1, n+1):\n",
    "        # Mi calcolo la parte uguale tra nominatore e denominatore...\n",
    "        gamma = 4 * k**2\n",
    "        # ...e calcolo la formula\n",
    "        res *= gamma / (gamma - 1)\n",
    "    # Alla fine, moltiplico per due e ritorno il risultato\n",
    "    return res * 2\n",
    "\n",
    "print(Wallis(1000000))"
   ]
  },
  {
   "cell_type": "markdown",
   "id": "d99d9507-f821-49e7-8cdc-aa73fd105f9c",
   "metadata": {},
   "source": [
    "##### (Per valori di _n_ bassi, come _n = 10_, la serie di Newton è più precisa; aumentando _n_ fino a valori a 7 cifre, però, il prodotto di Wallis riesce ad avvicinarsi più al valore effettivo di $\\pi$)"
   ]
  }
 ],
 "metadata": {
  "kernelspec": {
   "display_name": "Python 3 (ipykernel)",
   "language": "python",
   "name": "python3"
  },
  "language_info": {
   "codemirror_mode": {
    "name": "ipython",
    "version": 3
   },
   "file_extension": ".py",
   "mimetype": "text/x-python",
   "name": "python",
   "nbconvert_exporter": "python",
   "pygments_lexer": "ipython3",
   "version": "3.11.11"
  }
 },
 "nbformat": 4,
 "nbformat_minor": 5
}

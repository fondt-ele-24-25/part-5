{
 "cells": [
  {
   "cell_type": "markdown",
   "id": "d6fabfd5-88cf-4382-b9cd-bb348b4af90c",
   "metadata": {},
   "source": [
    "## Numeri di Fibonacci\n",
    "\n",
    "**Si definisca una funzione:**\n",
    "\n",
    "```python\n",
    "def Fibonacci(n)\n",
    "```\n",
    "\n",
    "...che calcoli il valore dell'elemento numero _n_ della serie di Fibonacci:\n",
    "\n",
    "$$\n",
    "Fibonacci(1) = 1; \\hspace{0.5 cm} Fibonacci(2) = 1; \\hspace{0.5 cm} Fibonacci(n) = Fibonacci(n-1) + Fibonacci(n-2)\n",
    "$$\n",
    "\n",
    "_Indizio: siccome ogni numero dipende dai due precedenti, conviene usare più accumulatori (variabili) per far \"scorrere\" la serie!_\n"
   ]
  },
  {
   "cell_type": "code",
   "execution_count": 1,
   "id": "a64184dd-9af2-4725-94a9-1e1d04bd9c49",
   "metadata": {},
   "outputs": [
    {
     "name": "stdout",
     "output_type": "stream",
     "text": [
      "Il decimo elemento della serie di Fibonacci è 55\n"
     ]
    }
   ],
   "source": [
    "def Fibonacci(n):\n",
    "    # Se n è 1, ritorno subito il risultato:\n",
    "    if n == 1:\n",
    "        return 1\n",
    "    # Stessa cosa per n == 2:\n",
    "    # (Questo sia per una questione di praticità dell'algoritmo sia perché è la definizione riportata sopra)\n",
    "    if n == 2:\n",
    "        return 1\n",
    "    # Altrimenti, faccio il calcolo:\n",
    "    # Dichiaro due variabili con i valori iniziali della serie di Fibonacci e una per accumulare la loro somma\n",
    "    fibonacci_1 = 1\n",
    "    fibonacci_2 = 1\n",
    "    res = 0\n",
    "    # Comincio un ciclo for che itera n volte, partendo da 2 perché ho già i primi due numeri di Fibonacci\n",
    "    for i in range(2, n):\n",
    "        # Ad ogni iterazione devo calcolare il prossimo numero di Fibonacci...\n",
    "        res = fibonacci_1 + fibonacci_2\n",
    "        # ...e far 'scorrere' le variabili, affinché contengano i numeri successivi nella serie\n",
    "        # (in modo tale che al prossimo ciclo del for contengano n-1 e n-2)\n",
    "        fibonacci_1 = fibonacci_2\n",
    "        fibonacci_2 = res\n",
    "    # Infine, terminato il loop, ritorno il risultato:\n",
    "    return res\n",
    "\n",
    "print(f'Il decimo elemento della serie di Fibonacci è {Fibonacci(10)}')"
   ]
  }
 ],
 "metadata": {
  "kernelspec": {
   "display_name": "Python 3 (ipykernel)",
   "language": "python",
   "name": "python3"
  },
  "language_info": {
   "codemirror_mode": {
    "name": "ipython",
    "version": 3
   },
   "file_extension": ".py",
   "mimetype": "text/x-python",
   "name": "python",
   "nbconvert_exporter": "python",
   "pygments_lexer": "ipython3",
   "version": "3.11.11"
  }
 },
 "nbformat": 4,
 "nbformat_minor": 5
}
